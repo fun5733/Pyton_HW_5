{
 "cells": [
  {
   "cell_type": "markdown",
   "metadata": {},
   "source": [
    " ## 과제 3"
   ]
  },
  {
   "cell_type": "markdown",
   "metadata": {},
   "source": [
    "#### L=[1, 2, 3, 4, 5]일 때 다음 각 문장을 수행한 후의 결과를 보고 납득할 만한 이유를 설명하시오.\n",
    "  - 1)\n",
    "     - L[1:3] = [100]\n",
    "     - print(L)\n",
    "  -  2)\n",
    "     - L[1:3] = [(100)]\n",
    "     - print(L)\n",
    "  -  3)\n",
    "     - L[1:3] = 100\n",
    "     - print(L)\n",
    "  -  4)\n",
    "     - L[1:3] = (100)\n",
    "     - print(L)\n",
    "  -  5)\n",
    "     - L[1:3] = (100, 101, 102)\n",
    "     - print(L)\n",
    "  -  6)\n",
    "     - L[1:3] = [100, 101, 102]\n",
    "     - print(L)\n",
    "  -  7)\n",
    "     - L[1:3] = [(100, 101, 102)]\n",
    "     - print(L)\n",
    "  -  8)\n",
    "     - L[1:3] = [[100, 101, 102]]\n",
    "     - print(L)"
   ]
  },
  {
   "cell_type": "code",
   "execution_count": 21,
   "metadata": {},
   "outputs": [
    {
     "name": "stdout",
     "output_type": "stream",
     "text": [
      "[1, 100, 4, 5]\n"
     ]
    }
   ],
   "source": [
    "L = [1, 2, 3, 4, 5]\n",
    "L[1:3] = [100]\n",
    "print(L)"
   ]
  },
  {
   "cell_type": "markdown",
   "metadata": {},
   "source": [
    " L[1:3], 즉 L[1] 과 L[2]를 합쳐서 [100]으로 바꿔버리는 것이므로 2와 3이 없어지고 그 자리에 100이 들어가게 된다."
   ]
  },
  {
   "cell_type": "code",
   "execution_count": 80,
   "metadata": {},
   "outputs": [
    {
     "name": "stdout",
     "output_type": "stream",
     "text": [
      "[1, 100, 4, 5]\n"
     ]
    }
   ],
   "source": [
    "L = [1, 2, 3, 4, 5]\n",
    "L[1:3] = [(100)]\n",
    "print(L)"
   ]
  },
  {
   "cell_type": "markdown",
   "metadata": {},
   "source": [
    " L[1:3], 즉 L[1] 과 L[2]를 합쳐서 [(100)]으로 바꿔버리는 것이므로 2와 3이 없어지고 그 자리에 100이 들어가게 된다."
   ]
  },
  {
   "cell_type": "code",
   "execution_count": 87,
   "metadata": {},
   "outputs": [
    {
     "ename": "TypeError",
     "evalue": "can only assign an iterable",
     "output_type": "error",
     "traceback": [
      "\u001b[1;31m---------------------------------------------------------------------------\u001b[0m",
      "\u001b[1;31mTypeError\u001b[0m                                 Traceback (most recent call last)",
      "\u001b[1;32m<ipython-input-87-edc1b0549df9>\u001b[0m in \u001b[0;36m<module>\u001b[1;34m()\u001b[0m\n\u001b[0;32m      1\u001b[0m \u001b[0mL\u001b[0m \u001b[1;33m=\u001b[0m \u001b[1;33m[\u001b[0m\u001b[1;36m1\u001b[0m\u001b[1;33m,\u001b[0m \u001b[1;36m2\u001b[0m\u001b[1;33m,\u001b[0m \u001b[1;36m3\u001b[0m\u001b[1;33m,\u001b[0m \u001b[1;36m4\u001b[0m\u001b[1;33m,\u001b[0m \u001b[1;36m5\u001b[0m\u001b[1;33m]\u001b[0m\u001b[1;33m\u001b[0m\u001b[0m\n\u001b[1;32m----> 2\u001b[1;33m \u001b[0mL\u001b[0m\u001b[1;33m[\u001b[0m\u001b[1;36m1\u001b[0m\u001b[1;33m:\u001b[0m\u001b[1;36m3\u001b[0m\u001b[1;33m]\u001b[0m \u001b[1;33m=\u001b[0m \u001b[1;36m100\u001b[0m\u001b[1;33m\u001b[0m\u001b[0m\n\u001b[0m\u001b[0;32m      3\u001b[0m \u001b[0mprint\u001b[0m\u001b[1;33m(\u001b[0m\u001b[0mL\u001b[0m\u001b[1;33m)\u001b[0m\u001b[1;33m\u001b[0m\u001b[0m\n",
      "\u001b[1;31mTypeError\u001b[0m: can only assign an iterable"
     ]
    }
   ],
   "source": [
    "L = [1, 2, 3, 4, 5]\n",
    "L[1:3] = 100\n",
    "print(L)"
   ]
  },
  {
   "cell_type": "markdown",
   "metadata": {},
   "source": [
    " iterable 타입으로 L[1:3]에 매칭해 넣으려면 100,으로 바꾸면 된다."
   ]
  },
  {
   "cell_type": "code",
   "execution_count": 89,
   "metadata": {},
   "outputs": [
    {
     "ename": "TypeError",
     "evalue": "can only assign an iterable",
     "output_type": "error",
     "traceback": [
      "\u001b[1;31m---------------------------------------------------------------------------\u001b[0m",
      "\u001b[1;31mTypeError\u001b[0m                                 Traceback (most recent call last)",
      "\u001b[1;32m<ipython-input-89-fcb29dd6421c>\u001b[0m in \u001b[0;36m<module>\u001b[1;34m()\u001b[0m\n\u001b[0;32m      1\u001b[0m \u001b[0mL\u001b[0m \u001b[1;33m=\u001b[0m \u001b[1;33m[\u001b[0m\u001b[1;36m1\u001b[0m\u001b[1;33m,\u001b[0m \u001b[1;36m2\u001b[0m\u001b[1;33m,\u001b[0m \u001b[1;36m3\u001b[0m\u001b[1;33m,\u001b[0m \u001b[1;36m4\u001b[0m\u001b[1;33m,\u001b[0m \u001b[1;36m5\u001b[0m\u001b[1;33m]\u001b[0m\u001b[1;33m\u001b[0m\u001b[0m\n\u001b[1;32m----> 2\u001b[1;33m \u001b[0mL\u001b[0m\u001b[1;33m[\u001b[0m\u001b[1;36m1\u001b[0m\u001b[1;33m:\u001b[0m\u001b[1;36m3\u001b[0m\u001b[1;33m]\u001b[0m \u001b[1;33m=\u001b[0m \u001b[1;33m(\u001b[0m\u001b[1;36m100\u001b[0m\u001b[1;33m)\u001b[0m\u001b[1;33m\u001b[0m\u001b[0m\n\u001b[0m\u001b[0;32m      3\u001b[0m \u001b[0mprint\u001b[0m\u001b[1;33m(\u001b[0m\u001b[0mL\u001b[0m\u001b[1;33m)\u001b[0m\u001b[1;33m\u001b[0m\u001b[0m\n",
      "\u001b[1;31mTypeError\u001b[0m: can only assign an iterable"
     ]
    }
   ],
   "source": [
    "L = [1, 2, 3, 4, 5]\n",
    "L[1:3] = (100)\n",
    "print(L)"
   ]
  },
  {
   "cell_type": "markdown",
   "metadata": {},
   "source": [
    " iterable 타입으로 L[1:3]에 매칭해 넣으려면 (100,)으로 바꾸면 된다."
   ]
  },
  {
   "cell_type": "code",
   "execution_count": 28,
   "metadata": {},
   "outputs": [
    {
     "name": "stdout",
     "output_type": "stream",
     "text": [
      "[1, 100, 101, 102, 4, 5]\n"
     ]
    }
   ],
   "source": [
    "L = [1, 2, 3, 4, 5]\n",
    "L[1:3] = (100, 101, 102)\n",
    "print(L)"
   ]
  },
  {
   "cell_type": "markdown",
   "metadata": {},
   "source": [
    "  L[1:3], 즉 L[1] 과 L[2]를 합쳐서 (100, 101, 102)으로 바꿔버리는 것이므로 2와 3이 없어지고 그 자리에 100, 101, 102 가 들어가게 된다."
   ]
  },
  {
   "cell_type": "code",
   "execution_count": 35,
   "metadata": {},
   "outputs": [
    {
     "name": "stdout",
     "output_type": "stream",
     "text": [
      "[1, 100, 101, 102, 4, 5]\n"
     ]
    }
   ],
   "source": [
    "L = [1, 2, 3, 4, 5]\n",
    "L[1:3] = [100, 101, 102]\n",
    "print(L)"
   ]
  },
  {
   "cell_type": "markdown",
   "metadata": {},
   "source": [
    " L[1:3], 즉 L[1] 과 L[2]를 합쳐서 [100, 101, 102] 으로 바꿔버리는 것이므로 2와 3이 없어지고 그 자리에 100, 101, 102 가 들어가게 된다."
   ]
  },
  {
   "cell_type": "code",
   "execution_count": 36,
   "metadata": {},
   "outputs": [
    {
     "name": "stdout",
     "output_type": "stream",
     "text": [
      "[1, (100, 101, 102), 4, 5]\n"
     ]
    }
   ],
   "source": [
    "L = [1, 2, 3, 4, 5]\n",
    "L[1:3] = [(100, 101, 102)]\n",
    "print(L)"
   ]
  },
  {
   "cell_type": "markdown",
   "metadata": {},
   "source": [
    "  L[1:3], 즉 L[1] 과 L[2]를 합쳐서 [(100, 101, 102)] 으로 바꿔버리는 것이므로 2와 3이 없어지고 그 자리에 (100, 101, 102) 가 들어가게 된다."
   ]
  },
  {
   "cell_type": "code",
   "execution_count": 37,
   "metadata": {},
   "outputs": [
    {
     "name": "stdout",
     "output_type": "stream",
     "text": [
      "[1, [100, 101, 102], 4, 5]\n"
     ]
    }
   ],
   "source": [
    "L = [1, 2, 3, 4, 5]\n",
    "L[1:3] = [[100, 101, 102]]\n",
    "print(L)"
   ]
  },
  {
   "cell_type": "markdown",
   "metadata": {},
   "source": [
    " L[1:3], 즉 L[1] 과 L[2]를 합쳐서 [[100, 101, 102]] 으로 바꿔버리는 것이므로 2와 3이 없어지고 그 자리에 [100, 101, 102] 가 들어가게 된다."
   ]
  },
  {
   "cell_type": "markdown",
   "metadata": {},
   "source": [
    " #### 문자열 S = 'Hello World and Python'에 대해 다음 요구사항에 대한 Python 코드를 제시하시오.\n",
    "    1) 단어의 순서가 역순으로 되어진 문자열 ('Python and World Hello')을 만들고\n",
    "    2) 1)의 결과 문자열에 대해 메소드 split과 join을 이용하여 공백을 모두 없엔 문자열 'PythonandWorldHello'을 만드시오."
   ]
  },
  {
   "cell_type": "code",
   "execution_count": 52,
   "metadata": {},
   "outputs": [
    {
     "name": "stdout",
     "output_type": "stream",
     "text": [
      "PythonandWorldHello\n"
     ]
    }
   ],
   "source": [
    "S = 'Hello World and Python'\n",
    "SQ = S[16:22]+' '+S[12:15]+' '+S[6:11]+' '+S[0:5]\n",
    "TQ = SQ.split()\n",
    "FQ = ''.join(TQ)\n",
    "print(FQ)"
   ]
  },
  {
   "cell_type": "markdown",
   "metadata": {},
   "source": [
    "먼저 슬라이싱을 이용해 단어의 순서가 역순이 되도록 붙인 후, split()을 이용해 공백을 없애고 마지막으로 join으로 붙였다."
   ]
  },
  {
   "cell_type": "markdown",
   "metadata": {},
   "source": [
    " #### 다음 코드를 보고 물음에 답하시오.\n",
    "      -  a = [1, 2, 3]\n",
    "      -  b = a * 3\n",
    "      -  c = [a] * 3\n",
    "      -  print(b)\n",
    "      -  print(c)"
   ]
  },
  {
   "cell_type": "markdown",
   "metadata": {},
   "source": [
    " #### 1) 위 코드를 수행한 이후 다음 코드를 수행한 후 b와 c의 내용을 확인하시오.\n",
    "      -  a[0]=0"
   ]
  },
  {
   "cell_type": "code",
   "execution_count": 53,
   "metadata": {},
   "outputs": [
    {
     "name": "stdout",
     "output_type": "stream",
     "text": [
      "[1, 2, 3, 1, 2, 3, 1, 2, 3]\n",
      "[[1, 2, 3], [1, 2, 3], [1, 2, 3]]\n"
     ]
    }
   ],
   "source": [
    "a = [1, 2, 3]\n",
    "b = a * 3\n",
    "c = [a] * 3\n",
    "print(b)\n",
    "print(c)"
   ]
  },
  {
   "cell_type": "code",
   "execution_count": 55,
   "metadata": {},
   "outputs": [
    {
     "name": "stdout",
     "output_type": "stream",
     "text": [
      "[1, 2, 3, 1, 2, 3, 1, 2, 3]\n",
      "[[0, 2, 3], [0, 2, 3], [0, 2, 3]]\n"
     ]
    }
   ],
   "source": [
    "a[0] = 0\n",
    "print(b)\n",
    "print(c)"
   ]
  },
  {
   "cell_type": "markdown",
   "metadata": {},
   "source": [
    " a[0] = 0 으로 a리스트의 첫번째 원소를 0으로 바꾸어주니 a를 사용하는 b,c 도 같이 변했다. 이는 a의 바뀐 값을 가져갔다는 것이다."
   ]
  },
  {
   "cell_type": "markdown",
   "metadata": {},
   "source": [
    "#### 2) b와 c 객체의 차이는 무엇인가?"
   ]
  },
  {
   "cell_type": "markdown",
   "metadata": {},
   "source": [
    " b는 리스트인 a를 그대로 3배 불린 것이고, c는 리스트인 a를 한번 더 리스트 안에 넣어서 리스트가 리스트를 포함하고 있게 되었다."
   ]
  },
  {
   "cell_type": "markdown",
   "metadata": {},
   "source": [
    " #### 다음 문자열을 ':'을 기준으로 분리하여 리스트로 만들고 각 문자열의 좌우 공백을 제거하시오 (즉, 문자열 S에서 l을 만들어라)\n",
    "    s = '  first star   :   second star   :    third star ' \n",
    "    l = ['first star', 'second star', 'third star']"
   ]
  },
  {
   "cell_type": "markdown",
   "metadata": {},
   "source": [
    " #### 1) for ~ in 문을 이용한 코드를 작성하시오."
   ]
  },
  {
   "cell_type": "code",
   "execution_count": 58,
   "metadata": {},
   "outputs": [
    {
     "name": "stdout",
     "output_type": "stream",
     "text": [
      "['first star', 'second star', 'third star']\n"
     ]
    }
   ],
   "source": [
    "s = '  first star   :   second star   :    third star '\n",
    "s1 = s.split(':')\n",
    "L = []\n",
    "for k in range(3):\n",
    "    L.append(s1[k].strip())\n",
    "print(L)"
   ]
  },
  {
   "cell_type": "markdown",
   "metadata": {},
   "source": [
    " s를 : 를 기준으로 나눈 리스트를 만들고, for ~ in 문을 이용해 append로 빈 리스트 L에 각 요소의 strip()을 적용해 공백을 없앤 후 더하게 된다."
   ]
  },
  {
   "cell_type": "markdown",
   "metadata": {},
   "source": [
    " #### 2) 리스트 내포(list comprehension)를 이용한 코드를 작성하시오."
   ]
  },
  {
   "cell_type": "code",
   "execution_count": 60,
   "metadata": {},
   "outputs": [
    {
     "name": "stdout",
     "output_type": "stream",
     "text": [
      "['first star', 'second star', 'third star']\n"
     ]
    }
   ],
   "source": [
    "s = '  first star   :   second star   :    third star '\n",
    "s1 = s.split(':')\n",
    "L = [s1[k].strip() for k in range(3)]\n",
    "print(L)"
   ]
  },
  {
   "cell_type": "markdown",
   "metadata": {
    "collapsed": true
   },
   "source": [
    " 리스트 내포 리터럴 방식을 활용해서 1번을 2번처럼 변경할 수 있다."
   ]
  },
  {
   "cell_type": "markdown",
   "metadata": {},
   "source": [
    " #### 다음과 같이 0보다 큰 정수 리스트 변수 list를 인자로 받는 함수 addall(list)와 addallodd(list)를 for ~ in 리터널과 리스트 내포 방식으로 각각 제시하시오."
   ]
  },
  {
   "cell_type": "markdown",
   "metadata": {},
   "source": [
    " ##### 1) addall(list) 함수 (리스트 내의 모든 정수를 더하는 함수로서 해답으로는 for ~ in 리터럴과 리스트 내포 방식으로 각각 제시하시오.)"
   ]
  },
  {
   "cell_type": "code",
   "execution_count": 25,
   "metadata": {},
   "outputs": [
    {
     "name": "stdout",
     "output_type": "stream",
     "text": [
      "9\n"
     ]
    }
   ],
   "source": [
    "def addall(lista):\n",
    "    L = []\n",
    "    for k in lista:\n",
    "        if k>0:\n",
    "            if k==int(k):\n",
    "                L.append(k)\n",
    "    return sum(L)\n",
    "print(addall([-5,2,3,4,0.5]))"
   ]
  },
  {
   "cell_type": "markdown",
   "metadata": {},
   "source": [
    " 리스트를 받아서 for~in 리터럴을 이용해 내부의 모든 정수를 더하는 함수이다."
   ]
  },
  {
   "cell_type": "code",
   "execution_count": 24,
   "metadata": {},
   "outputs": [
    {
     "name": "stdout",
     "output_type": "stream",
     "text": [
      "9\n"
     ]
    }
   ],
   "source": [
    "def addall(lista):\n",
    "    L = [k for k in lista if k>0 if k==int(k)]\n",
    "    return sum(L)\n",
    "print(addall([-5,2,3,4,0.5]))"
   ]
  },
  {
   "cell_type": "markdown",
   "metadata": {},
   "source": [
    " 리스트를 받아서 리스트 내포 리터럴 방식으로 리스트 내의 정수만을 가져와 새로운 리스트를 만든 후, 새로운 리스트 내부의 모든 값들을 더해서 반환한다."
   ]
  },
  {
   "cell_type": "markdown",
   "metadata": {},
   "source": [
    " ##### 2) addallodd(list) 함수 (리스트내의 모든 홀수를 더하는 함수로서 해답으로는 for ~ in 리터럴과 리스트 내포 방식으로 각각 제시하시오.)"
   ]
  },
  {
   "cell_type": "code",
   "execution_count": 22,
   "metadata": {},
   "outputs": [
    {
     "name": "stdout",
     "output_type": "stream",
     "text": [
      "15\n"
     ]
    }
   ],
   "source": [
    "def addallodd(lista):\n",
    "    L = []\n",
    "    for k in lista:\n",
    "        if k>0:\n",
    "            if k==int(k):\n",
    "                if k%2:\n",
    "                    L.append(k)\n",
    "    return sum(L)\n",
    "print(addallodd([-2,1,2,3,4,0.5,11]))"
   ]
  },
  {
   "cell_type": "markdown",
   "metadata": {},
   "source": [
    " 리스트를 받아서 for~in 리터럴 방식으로 홀수만 가져와 새로운 리스트를 만든 후, 새로운 리스트 내부의 모든 값을 더하는 함수이다."
   ]
  },
  {
   "cell_type": "code",
   "execution_count": 26,
   "metadata": {},
   "outputs": [
    {
     "name": "stdout",
     "output_type": "stream",
     "text": [
      "15\n"
     ]
    }
   ],
   "source": [
    "def addallodd(lista):\n",
    "    L = [k for k in lista if k>0 if k==int(k) if k%2]\n",
    "    return sum(L)\n",
    "print(addallodd([-2,1,2,3,4,0.5,11]))"
   ]
  },
  {
   "cell_type": "markdown",
   "metadata": {},
   "source": [
    "리스트를 받아서 리스트 내포 리터럴 방식으로 리스트 내의 홀수만을 가져와 새로운 리스트를 만든 후, 새로운 리스트 내부의 모든 값들을 더해서 반환한다."
   ]
  },
  {
   "cell_type": "markdown",
   "metadata": {},
   "source": [
    " #### 다음 코드를 보고 물음에 답하시오.\n",
    "\n",
    "- L1 = [1, 2, 3]\n",
    "- L2 = [4, 5, 6]\n",
    "- d = {'low':L1, 'high':L2}\n",
    "- e = d\n",
    "- f = d.copy()\n",
    "- print(d)\n",
    "- print(e)\n",
    "- print(f)\n",
    "- print()\n",
    "- d['low'] = [10, 20, 30]\n",
    "- d['high'][1] = 500\n",
    "- print(d)\n",
    "- print(e)\n",
    "- print(f)"
   ]
  },
  {
   "cell_type": "code",
   "execution_count": 29,
   "metadata": {},
   "outputs": [
    {
     "name": "stdout",
     "output_type": "stream",
     "text": [
      "{'low': [1, 2, 3], 'high': [4, 5, 6]}\n",
      "{'low': [1, 2, 3], 'high': [4, 5, 6]}\n",
      "{'low': [1, 2, 3], 'high': [4, 5, 6]}\n",
      "\n",
      "{'low': [10, 20, 30], 'high': [4, 500, 6]}\n",
      "{'low': [10, 20, 30], 'high': [4, 500, 6]}\n",
      "{'low': [1, 2, 3], 'high': [4, 500, 6]}\n"
     ]
    }
   ],
   "source": [
    "L1 = [1, 2, 3]\n",
    "L2 = [4, 5, 6]\n",
    "d = {'low':L1, 'high':L2}\n",
    "e = d\n",
    "f = d.copy()\n",
    "print(d)\n",
    "print(e)\n",
    "print(f)\n",
    "print()\n",
    "d['low'] = [10, 20, 30]\n",
    "d['high'][1] = 500\n",
    "print(d)\n",
    "print(e)\n",
    "print(f)"
   ]
  },
  {
   "cell_type": "markdown",
   "metadata": {},
   "source": [
    " ##### 1) 위 코드의 수행 결과 d와 e는 항상 같은 결과를 출력한다. 그 이유는 무엇인가?"
   ]
  },
  {
   "cell_type": "markdown",
   "metadata": {},
   "source": [
    " e = d 때문에 e와 d가 동일한 객체를 참조하게 되기 때문에 일어나는 현상이다."
   ]
  },
  {
   "cell_type": "markdown",
   "metadata": {},
   "source": [
    "  ##### 2) 위 코드의 수행 결과 마지막 f의 내용은 다음과 같다. 이 때 'high' 키의 값 내용 중 500이 출력된 이유와 'low' 키의 값 내용 중 [1, 2, 3]이 출력된 이유를 설명하시오 \n",
    "  - {'high': [4, 500, 6], 'low': [1, 2, 3]}"
   ]
  },
  {
   "cell_type": "markdown",
   "metadata": {},
   "source": [
    " shallow copy, 즉 얕은 복사가 이루어졌기 때문에 복사된 f리스트는 별도의 객체이다. 그러므로 low키의 값 내용은 바뀌기 전 값인  [1,2,3]이 된다."
   ]
  },
  {
   "cell_type": "markdown",
   "metadata": {},
   "source": [
    " #### 사전 d = {'one':1, 'two':2, 'three':3, 'four':4, 'five':5}가 주어졌을 때 다음 요구사항에 맞는 코드를 제시하시오"
   ]
  },
  {
   "cell_type": "markdown",
   "metadata": {},
   "source": [
    " ##### 1) 키의 알파벳 오름차순 순서대로 튜플 (키, 값)을 차례대로 출력하시오."
   ]
  },
  {
   "cell_type": "code",
   "execution_count": 73,
   "metadata": {},
   "outputs": [
    {
     "name": "stdout",
     "output_type": "stream",
     "text": [
      "('five', 5)\n",
      "('four', 4)\n",
      "('one', 1)\n",
      "('three', 3)\n",
      "('two', 2)\n"
     ]
    }
   ],
   "source": [
    "d = {'one':1, 'two':2, 'three':3, 'four':4, 'five':5}\n",
    "L = [] \n",
    "key = d.keys()\n",
    "for k in key:\n",
    "    L.append(k)\n",
    "L.sort()\n",
    "for k in L:\n",
    "    print((k, d[k]))"
   ]
  },
  {
   "cell_type": "markdown",
   "metadata": {},
   "source": [
    " keys() 메소드를 호출해 나온 key값으로 구성된 리스트를 sort를 이용해 정렬하면 key값에 의한 정렬을 할 수 있다."
   ]
  },
  {
   "cell_type": "markdown",
   "metadata": {},
   "source": [
    "##### 2) 키의 알파벳 내림차순 순서대로 튜플 (키, 값)을 차례대로 출력하시오."
   ]
  },
  {
   "cell_type": "code",
   "execution_count": 102,
   "metadata": {},
   "outputs": [
    {
     "name": "stdout",
     "output_type": "stream",
     "text": [
      "('two', 2)\n",
      "('three', 3)\n",
      "('one', 1)\n",
      "('four', 4)\n",
      "('five', 5)\n"
     ]
    }
   ],
   "source": [
    "d = {'one':1, 'two':2, 'three':3, 'four':4, 'five':5}\n",
    "L = [] \n",
    "key = d.keys()\n",
    "for k in key:\n",
    "    L.append(k)\n",
    "L.sort(reverse = True)\n",
    "for k in L:\n",
    "    print((k, d[k]))"
   ]
  },
  {
   "cell_type": "markdown",
   "metadata": {},
   "source": [
    " keys() 메소드를 호출해 나온 key값으로 구성된 리스트를 sort를 이용해 정렬하면 key값에 의한 정렬을 할 수 있다. 이 때, sort(reverse = True)를 활용해 역순으로 정렬할 수 있다."
   ]
  },
  {
   "cell_type": "markdown",
   "metadata": {},
   "source": [
    " ##### 3) 값의 오름차순 순서대로 튜플 (키, 값)을 차례대로 출력하시오."
   ]
  },
  {
   "cell_type": "code",
   "execution_count": 104,
   "metadata": {},
   "outputs": [
    {
     "name": "stdout",
     "output_type": "stream",
     "text": [
      "[('one', 1), ('three', 3), ('four', 4), ('five', 5), ('ten', 10)]\n"
     ]
    }
   ],
   "source": [
    "d = {'one':1, 'three':3, 'ten':10, 'four':4, 'five':5}\n",
    "L = [] \n",
    "V = []\n",
    "value = d.values()\n",
    "for k in value:\n",
    "    L.append(k)\n",
    "L.sort()\n",
    "for k, x in d.items():\n",
    "    for t in L:\n",
    "        if x == t:\n",
    "            V.insert(L.index(t),(k,x))\n",
    "print(V)\n",
    "#print(L)"
   ]
  },
  {
   "cell_type": "markdown",
   "metadata": {},
   "source": [
    " values() 메소드를 호출해 나온 value값으로 구성된 리스트를 sort를 이용해 정렬하고, 이를 이중 for~in문 안에서 items() 메소드로 호출한 key값과 value값 두개의 리플에서 value값이 정렬된 value 리스트의 값과 일치할 시 그 값에 맞는 인덱스에 넣어주는 방식으로 새로운 리스트 V를 만들어 그 안에 저장한다."
   ]
  },
  {
   "cell_type": "markdown",
   "metadata": {},
   "source": [
    " ##### 4) 값의 내림차순 순서대로 튜플 (키, 값)을 차례대로 출력하시오."
   ]
  },
  {
   "cell_type": "code",
   "execution_count": 103,
   "metadata": {},
   "outputs": [
    {
     "name": "stdout",
     "output_type": "stream",
     "text": [
      "[('ten', 10), ('five', 5), ('one', 1), ('four', 4), ('three', 3)]\n"
     ]
    }
   ],
   "source": [
    "d = {'one':1, 'three':3, 'ten':10, 'four':4, 'five':5}\n",
    "L = [] \n",
    "V = []\n",
    "value = d.values()\n",
    "for k in value:\n",
    "    L.append(k)\n",
    "L.sort(reverse = True)\n",
    "for k, x in d.items():\n",
    "    for t in L:\n",
    "        if x == t:\n",
    "            V.insert(L.index(t),(k,x))\n",
    "print(V)\n",
    "#print(L)"
   ]
  },
  {
   "cell_type": "markdown",
   "metadata": {},
   "source": [
    " values() 메소드를 호출해 나온 value값으로 구성된 리스트를 sort를 이용해 정렬하고, 이를 이중 for~in문 안에서 items() 메소드로 호출한 key값과 value값 두개의 리플에서 value값이 정렬된 value 리스트의 값과 일치할 시 그 값에 맞는 인덱스에 넣어주는 방식으로 새로운 리스트 V를 만들어 그 안에 저장한다. 이 때, sort(reverse = True)를 활용해 역순으로 정렬할 수 있다."
   ]
  },
  {
   "cell_type": "markdown",
   "metadata": {},
   "source": [
    " #### [ACM-ICPC 문제 1152번]\n",
    " - 단어의 개수"
   ]
  },
  {
   "cell_type": "code",
   "execution_count": 107,
   "metadata": {},
   "outputs": [
    {
     "name": "stdout",
     "output_type": "stream",
     "text": [
      "The Curious-Case of Benjamin Button\n",
      "5\n"
     ]
    }
   ],
   "source": [
    "s = input()\n",
    "s1 = s.split()\n",
    "print(len(s1))"
   ]
  },
  {
   "cell_type": "markdown",
   "metadata": {},
   "source": [
    " 문장을 하나 입력받고 이를 split()을 이용해 공백 문자를 기준으로 나눈 리스트의 크기를 확인하면 된다."
   ]
  },
  {
   "cell_type": "markdown",
   "metadata": {},
   "source": [
    " ![이미지](https://github.com/fun5733/-Assignment_2015136069/blob/master/PPP/5.png?raw=true)"
   ]
  },
  {
   "cell_type": "markdown",
   "metadata": {},
   "source": [
    " #### [Incremental Project] 이전 Assignment 2의 마지막 문제는 웹 URL로 지정된 웹페이지를 문자열로 가져와 모든 HTML 태그 및 CSS와 Javascript를 제외한 순수 텍스트를 얻어내고 그 안에 존재하는 단어를 추출하고 단어들의 총 개수를 출력하는 프로그램을 작성하는 것이었다. 이번에는 그 마지막 숙제를 그대로 확장하여 웹 URL로 지정된 웹페이지 내 순수 텍스트 안에 존재하는 각 단어들에 대해 다음 요구사항 대로 출력하는 프로그램을 작성하시오."
   ]
  },
  {
   "cell_type": "markdown",
   "metadata": {},
   "source": [
    "##### 요구사항 1. 순수 텍스트 안에 존재하는 단어들에 대해 string 모듈을 활용하여 모든 punctuation (구두문자)를 완벽히 제거하시오.\n",
    " - 예: ['world!', ':', '+hello+', '~python$$$', '=', 'world'] ---> ['world', 'hello', 'python', 'world']\n",
    " - 모든 punctuation을 확인하는 방법은 아래와 같다.\n",
    "   - import string\n",
    "   - print(string.punctuation)"
   ]
  },
  {
   "cell_type": "code",
   "execution_count": 43,
   "metadata": {},
   "outputs": [
    {
     "name": "stdout",
     "output_type": "stream",
     "text": [
      "['world', '', 'hello', 'python', '', 'world']\n"
     ]
    }
   ],
   "source": [
    "import string\n",
    "i = 0\n",
    "P = list(range(len(string.punctuation)))\n",
    "L =  ['world!', ':', '+hello+', '~python$$$', '=', 'world']\n",
    "for k in string.punctuation:\n",
    "    P[i] = k\n",
    "    i = i+1\n",
    "V = []\n",
    "for k in L:\n",
    "    for x in P:\n",
    "        if x in k:\n",
    "            num = k.count(x)\n",
    "            for t in range(num):\n",
    "                idx = k.index(x)\n",
    "                k = k[:idx] + k[idx+1:]\n",
    "    V.append(k)\n",
    "print(V)"
   ]
  },
  {
   "cell_type": "markdown",
   "metadata": {},
   "source": [
    " 일단 모든 punctuation을 리스트 P안에 한 개씩 따로 저장한 뒤, 리스트 L 내의 각각의 문자열 값이 punctuation을 하나라도 가지면 그 인덱스의 값을 제외한 나머지만을 다시 더한 문자열을 새로 생성 후 새로운 리스트에 append로 추가한다. "
   ]
  },
  {
   "cell_type": "markdown",
   "metadata": {},
   "source": [
    " ##### 요구사항 2. 만약 punctuation (구두문자)를 제거한 이후 공백으로 판명되는 단어들은 해당 단어 리스트에서 제거하시오.\n",
    "  - 예: ['컴퓨터공학부!', '---?', '%지향~', '...'] ---> ['컴퓨터공학부', '지향']"
   ]
  },
  {
   "cell_type": "code",
   "execution_count": 48,
   "metadata": {},
   "outputs": [
    {
     "name": "stdout",
     "output_type": "stream",
     "text": [
      "['컴퓨터공학부', '지향']\n"
     ]
    }
   ],
   "source": [
    "import string\n",
    "i = 0\n",
    "P = list(range(len(string.punctuation)))\n",
    "L = ['컴퓨터공학부!', '---?', '%지향~', '...',]\n",
    "for k in string.punctuation:\n",
    "    P[i] = k\n",
    "    i = i+1\n",
    "V = []\n",
    "for k in L:\n",
    "    for x in P:\n",
    "        if x in k:\n",
    "            num = k.count(x)\n",
    "            for t in range(num):\n",
    "                idx = k.index(x)\n",
    "                k = k[:idx] + k[idx+1:]\n",
    "    V.append(k)\n",
    "for k in V:\n",
    "    if len(k)==0:\n",
    "        V.remove(k)\n",
    "print(V)"
   ]
  },
  {
   "cell_type": "markdown",
   "metadata": {},
   "source": [
    " 위에서 puntuation 제거하는 코드를 그대로 쓰되, 마지막에 공백으로 판명되는 단어, 즉 길이가 0인 문자열을 모두 remove로 제거했다."
   ]
  },
  {
   "cell_type": "markdown",
   "metadata": {},
   "source": [
    " ##### 요구사항 3. 각 단어들의 출현빈도를 사전형태로 저장하여 출력하시오.\n",
    "   - 예: ['world', 'hello', 'python', 'world', '컴퓨터공학부', '지향'] ---> {'world': 2, 'hello': 1, 'python': 1, '컴퓨터공학부': 1, '지향': 1}"
   ]
  },
  {
   "cell_type": "code",
   "execution_count": 6,
   "metadata": {},
   "outputs": [
    {
     "name": "stdout",
     "output_type": "stream",
     "text": [
      "['world', 'hello', 'python', 'world', '컴퓨터공학부', '지향']\n",
      "{'world': 2, 'hello': 1, 'python': 1, '컴퓨터공학부': 1, '지향': 1}\n"
     ]
    }
   ],
   "source": [
    "import string\n",
    "i = 0\n",
    "P = list(range(len(string.punctuation)))\n",
    "L = ['world', 'hello', 'python', 'world', '컴퓨터공학부', '지향']\n",
    "for k in string.punctuation:\n",
    "    P[i] = k\n",
    "    i = i+1\n",
    "V = []\n",
    "M = {}\n",
    "for k in L:\n",
    "    for x in P:\n",
    "        if x in k:\n",
    "            num = k.count(x)\n",
    "            for t in range(num):\n",
    "                idx = k.index(x)\n",
    "                k = k[:idx] + k[idx+1:]\n",
    "    V.append(k)\n",
    "for k in V:\n",
    "    if len(k)==0:\n",
    "        V.remove(k)\n",
    "for k in V:\n",
    "    M[k] = V.count(k)\n",
    "print(V)\n",
    "print(M)"
   ]
  },
  {
   "cell_type": "markdown",
   "metadata": {},
   "source": [
    " for in문을 통해 리스트 V 내부의 값을 확인하고 사전의 key값, 이 값이 리스트 내에 몇 개나 있는지 count로 세서 사전의 value값으로 저장한다."
   ]
  },
  {
   "cell_type": "markdown",
   "metadata": {},
   "source": [
    " ##### 요구사항 4. 다음 3개의 사이트에 대한 결과를 출력하시오.\n",
    "   - http://www.naver.com\n",
    "   - http://www.daum.net\n",
    "   - http://www.nytimes.com"
   ]
  },
  {
   "cell_type": "code",
   "execution_count": 8,
   "metadata": {},
   "outputs": [
    {
     "name": "stdout",
     "output_type": "stream",
     "text": [
      "{'var': 19, 'nsc': 1, 'navertopv3': 1, 'documentdomain': 1, 'navercom': 1, 'jindoAll': 1, 'httpsspstaticnetpm2jscjindov171025js': 1, 'if': 4, 'windowconsole': 1, 'windowconsolewindowconsolelogfunction': 1, 'isLogin': 1, 'false': 4, 'function': 5, 'refreshLcsetc': 1, 'etc': 4, 'ifdocumentcookieindexOfnrefreshx1': 1, '1': 4, 'etcmrf1': 1, 'else': 1, 'etcpanbtyreturn': 1, 'lcsdorefreshLcs': 1, 'NAVER': 3, '뉴스스탠드': 2, '바로가기': 6, '주제별캐스트': 1, '타임스퀘어': 1, '쇼핑캐스트': 2, '로그인': 2, '네이버': 7, '네이버를': 1, '시작페이지로': 1, '쥬니어네이버': 1, '해피빈': 1, '검색': 2, '통합검색블로그카페': 1, '카페명': 1, '카페글지식iN뉴스사이트': 1, '카테고리': 1, '사이트영화웹문서사전': 1, '백과사전': 1, '영어사전': 1, '영영사전': 1, '국어사전': 1, '일본어사전': 1, '한자사전': 1, '용어사전책음악전문자료쇼핑지역동영상이미지내PC영화자동차게임건강인물긍정부정검색': 1, '자동완성': 12, '펼치기': 1, '한글': 1, '입력기': 1, '생각한대로': 1, '검색해': 1, '보세요': 2, 'Beta': 1, 'txttxt': 1, '시간대와': 1, '관심사에': 1, '맞춘': 1, '컨텍스트': 3, '도움말': 2, '보기': 21, 'ON선택됨': 1, 'OFF': 1, '동일한': 1, '시간대연령남녀별': 1, '사용자': 1, '그룹의관심사에': 1, '맞춰': 1, '자동완성을': 1, '제공합니다': 1, '자세히': 2, 'ONOFF설정은해당': 1, '기기브라우저에': 1, '저장됩니다': 1, '레이어': 1, '닫기': 3, '도움말신고검색어저장': 4, '켜기자동완성': 4, '끄기': 5, '기능을': 5, '다시': 5, '켤': 4, '때는': 4, '펼치기을': 4, '클릭하세요': 4, '현재': 1, '사용하고': 1, '계십니다': 1, '기능이': 5, '활성화되었습니다': 1, '꺼져': 3, '있습니다': 4, '켜기': 1, '최근검색어내': 1, '검색어': 7, '내': 6, '등록txtdate삭제intxt': 1, '최근검색어': 1, '내역이': 1, '없습니다': 1, '저장': 2, '해제txt': 1, '설정된': 1, '검색어가': 1, '없습니다최근검색어에서': 1, '등록를': 1, '선택하여': 1, '자주': 1, '찾는': 1, '검색어를내': 1, '검색어로': 1, '저장해': 1, '알림공용': 1, 'PC에서는': 1, '개인정보': 1, '보호를': 1, '위하여': 1, '반드시': 1, '로그아웃을': 1, '해': 1, '주세요': 1, '기록': 3, '삭제검색어저장': 2, '끄기자동완성': 2, '전체': 5, '삭제완료': 1, '검색어는': 1, '최대': 1, '10개': 1, '까지': 1, '저장할': 1, '수': 3, '있습니다추가하시려면': 1, '기존': 1, '검색어를': 1, '지워주세요': 1, '제19대': 1, '대통령선거': 1, '후보에': 1, '대해': 1, '5월': 1, '9일': 1, '선거일까지': 1, '제공되지': 1, '않습니다': 1, '자세히보기': 1, 'image7': 1, '6': 3, '12': 3, '6789101112': 1, '5회차13': 1, '14money': 1, '6원10': 1, '8': 3, '97': 1, '7': 4, '기온': 2, '8℃': 2, '9': 4, '1011': 2, '5': 4, 'displaylink': 1, '사이트로': 1, '바로': 2, '이동': 3, 'query': 1, 'intend': 1, 'txt': 1, '바로이동': 1, 'intxt': 1, 'mismatchbeforematchmismatchafter': 2, '메일': 1, '카페': 1, '블로그': 3, '지식인': 1, '쇼핑': 1, '네이버페이': 1, '네이버TV': 1, '사전': 1, '뉴스': 2, '증권금융': 1, '부동산': 1, '지도': 1, '영화': 2, '뮤직': 2, '책': 1, '만화': 1, '웹툰': 2, '더보기': 1, '실시간': 2, '급상승': 2, '테이': 2, '2': 2, '신유': 4, '3': 2, '보통사람': 2, '4': 2, '한샘': 4, '윤세아': 2, '토트넘': 5, '스토크시티': 3, '세상에서': 2, '가장': 2, '아름다운': 2, '이별': 2, '더유닛': 2, '성폭행': 2, '10': 3, '그것이': 2, '알고싶다': 2, '11': 2, '드라마': 2, '스테이지': 2, '13': 2, '효리네민박2': 2, '14': 2, '아는형님': 2, '15': 2, '한국': 2, '중국': 3, '16': 2, '무한도전': 2, '17': 2, 'epl': 2, '18': 2, '이방인': 2, '19': 2, '결혼': 2, '20': 2, '돈꽃': 2, 'DataLab급상승': 1, '트래킹': 1, '110위': 1, '1120위': 1, '데이터랩': 20, '그래프': 20, '20171210': 1, '005300': 1, '기준': 1, '연합뉴스': 1, '막바지': 1, '인상작업': 1, '중': 1, '쿵엿가락처럼': 1, '휜': 1, '크레인': 1, '文대통령': 1, '방중': 1, '준비…관계복원': 1, '쐐기': 1, '박을까': 1, '조희연': 1, '누리과정': 1, '반대한다고': 1, '여러': 1, '압력': 1, '있었다': 1, '러': 1, '전문가': 1, '北': 1, '위성2기': 1, '개발…조만간': 1, '발사할듯': 1, '탄핵': 1, '1주년': 1, '바라본': 1, '시민들…정치개혁': 1, '갈길': 1, '멀어': 1, '일요일': 1, '경기·강원': 1, '많은눈···': 1, '밤부터': 1, '추워져': 1, '서울시': 1, '내년': 1, '신혼부부': 1, '전월세보증금': 1, '대출이자': 1, '지원': 1, '한국축구': 1, 'E1챔피언십': 1, '개막전서': 1, '중국과': 1, '22': 1, '무승부': 1, '생사순간인데…해경상황실': 1, '대응미숙': 1, '왜': 1, '반복되나': 1, '몸값': 1, '가장많이': 1, '뛴': 1, '품목은…귤·오징어·달걀': 1, '순': 1, '네이버뉴스': 1, '연예': 1, '스포츠': 4, '경제': 1, '랭킹': 1, '언론사': 4, 'MY': 1, '이미지형': 1, '리스트형': 1, '설정': 3, '이전': 2, '페이지': 2, '다음': 2, '목록': 3, '구독': 19, '해지': 18, '기사보기': 18, '종합경제': 1, '방송통신': 1, 'IT': 1, '영자지': 1, '스포츠연예': 1, '매거진전문지': 1, '지역': 1, '설정한': 2, '언론사가': 1, '없습니다언론사': 1, '설정에서': 1, 'MY언론사를': 1, '추가하면설정한': 1, '언론사의': 1, '기사들을': 1, '홈에서': 1, '보실': 1, '추가': 1, 'Sign': 3, 'in': 2, 'Connect': 1, 'with': 1, 'people': 1, 'up': 1, 'Forgot': 1, 'Username': 1, 'or': 1, 'Password': 1, '1210일': 1, '앞의': 1, '목록으로': 2, '뒤의': 1, '해외축구LIVETV중계': 1, 'vs': 2, '해외축구LIVETV': 1, '프랑크푸르트': 1, 'B뮌헨': 1, '해외야구스탠튼저지': 1, '뭉친다hellip양키스': 1, '마이애미와': 1, '트레이드': 1, '합의': 1, '주제형': 1, '캐스트': 1, '관심': 4, '주제': 8, '선택': 1, '리빙': 1, '푸드': 1, '자동차': 1, '패션뷰티': 2, '맘·키즈': 1, '건강': 1, '게임': 1, 'TV연예': 1, '책문화': 1, '함께N': 1, '여행': 1, '디자인': 1, '경제M': 1, 'JOB': 1, '과학': 1, '비즈니스': 3, 'FARM': 1, '스쿨잼': 1, '공연전시': 1, '법률': 1, '동물공감': 1, '연애·결혼': 1, '테크': 1, '열기': 1, 'name': 3, 'isNewPanel': 1, 'NEWif': 1, 'name를': 1, '관심주제로': 1, '설정하시겠습니까': 1, '확인': 3, '취소': 3, '모바일에서': 1, '주제를': 1, '가져오시겠습니까': 1, '관심주제': 1, '모바일': 3, '가져오기': 2, '로그인후': 2, '사용': 2, '가능합니다': 2, '초기화': 1, '전체선택': 1, '뷰티': 3, '뷰스타': 3, '뷰티TV': 5, 'V뷰티': 1, '헤어멘토': 4, '공식': 1, 'ë\\x8f\\x99ì\\x98\\x81ì\\x83\\x81': 5, '무의식': 1, '상태에서': 1, '가능': 1, '귀차니즘을': 1, '위한': 2, '옆구리': 1, '살': 1, '운동': 1, '지갑': 1, '싹': 1, '털릴': 1, '준비해랏파워': 1, '영롱': 1, '신상': 1, '글리터': 1, '섀도': 1, '뷰티톡': 1, '포스트': 6, '단발': 1, 'C컬': 1, '펌으로': 1, '단아하고데일리한': 1, '느낌': 1, '낼': 1, '있어': 1, '윤광국': 1, '폴라': 2, '0': 2, 'dadomid': 1, 'typeof': 2, 'nbpad': 1, 'undefined': 3, 'nbpadmobilenetworkaddivid': 1, 'adwda': 1, 'tarEl': 1, 'NBPCORPuId': 2, 'util': 1, 'navercorpdaUtil': 2, 'new': 6, 'NBPCORPNimp': 1, 'iftarEl': 1, 'ActiveView': 1, 'acenddate': 2, '20301231235959': 2, 'adenddate': 2, 'scrolltarget': 2, 'dascrolltarget': 1, 'dascrolltargettargetEl': 1, 'window': 1, 'orientationchangetime': 2, '500': 1, 'callback': 3, 'url': 2, 'httpsnvvetanavercomfxvieweuEU10022499ac7560751src3184385evtcdC1073xti944tbBEAUTY1oidsid1sid2rkWiwGQpizTIAAFDE6JUAAACQelttsojLI2wV73E2zpBYd7ow6ew3D3DeidV900xev': 1, 'xev': 4, 'try': 2, 'target': 2, 'parseInttargetgetBoundingClientRectheight': 1, 'targetoffsetHeight': 1, '000': 3, '111': 1, 'catche': 2, 'finally': 1, 'utillogurl': 1, 'callbackForInValid': 3, 'navercorpdaactiveViewsuId': 4, 'null': 2, 'ifnavercorpdaactiveViewsuId': 1, 'navercorpdaactiveViewsuIdclearActiveView': 1, 'navercorpdaActiveView': 1, 'adDivId': 1, 'uId': 1, 'acEndDate': 1, 'adEndDate': 1, 'scrollTarget': 1, 'activeViewTime': 1, '1000': 1, 'activeViewPercentage': 1, '05': 1, 'orientationChangeTime': 1, 'navercorpdaactiveViewsuIdcheckActiveView': 1, '화려한': 1, '레드': 2, '글리터를': 1, '듬뿍치명적인': 1, '홀리데이': 1, '메이크업': 2, '틴뷰스타': 1, '준이': 1, '24시간': 1, '풀': 1, '보습': 1, '책임져줄12월의': 1, '신제품': 1, '모음': 1, '리빙센스': 1, '5분만에': 1, '사람': 1, '만들어': 1, '주는초': 1, '스피드': 1, '참고해': 1, '스칼렛': 1, '여신': 1, '머리를': 1, '부탁해시술': 1, '과정': 1, '및': 2, '결과': 1, '공개': 1, '데이트할': 1, '때': 1, '이대로만': 2, '입어첫눈처럼': 1, '사랑스러운': 1, '코디': 1, '에디터': 1, '하구': 1, '탱글탱글': 1, '풍성함과': 1, '개성을살린': 1, '댄디': 1, '스타일': 1, '헤어': 1, '킹': 1, '핑크오렌지': 1, '아직도': 1, '고민망설이지': 1, '말고': 2, '둘': 1, '다': 1, '사용해': 1, '회사원A': 1, '연말': 1, '파티에서': 1, '존재감': 1, '뿜뿜백화점': 1, '최강': 1, '립스틱': 1, '옐로픽': 1, '최대한': 1, '높게': 1, '묶어줘야': 1, '예쁜하이': 1, '포니테일': 1, '하는': 1, '방법': 1, '순시키헤어': 1, '독특한': 1, '디자인에': 1, '실용성까지소장각': 1, '구매각': 1, '아이템': 1, '셀프뷰티': 1, '이번': 1, '주엔': 1, '또': 1, '뭐': 1, '입어야': 1, '돼고민': 1, '입어봐': 1, '코디북': 1, 'httpscastboxshoppingnavercomshopboxmainnhnsvglesstrue': 1, '파트너를': 1, '공간': 1, '파트너스퀘어': 1, '부산': 1, '비즈니스와': 1, '창작자를': 1, '위한교육과': 1, '스튜디오': 1, '무료': 1, '제공': 1, 'edwith플립러닝': 1, '효과적인': 1, '온라인클래스': 1, '현직': 1, '초중고': 1, '선생님들과교수님들을': 1, '초대합니다': 1, '공지사항': 1, '구단체': 1, '아이디': 1, '서비스': 2, '종료에': 1, '대한': 1, '안내': 2, '전체보기': 1, '프로젝트': 2, '꽃': 2, '웨일': 1, '브라우저': 1, '다운받기': 1, '네이버웨일': 1, 'Creators': 1, '크리에이터': 1, '스몰비즈니스': 1, 'Partners': 1, '파트너': 1, '·': 1, '광고': 1, '스토어': 1, '개설': 1, '지역업체': 1, '등록': 1, 'Developers': 1, '개발자센터': 1, '오픈': 1, 'API': 1, '오픈소스': 1, 'D2': 1, '랩스': 1, '정책': 2, '약관': 1, '회사소개': 1, '인재채용': 1, '제휴제안': 1, '이용약관': 1, '개인정보처리방침': 1, '청소년보호정책': 1, '고객센터': 1, 'ⓒ': 1, 'Corp': 1, 'svr': 2, 'svt': 1, '20171210005329': 1, 'aPanelListAll': 2, 'nmainJS': 1, 'httpsspstaticnetpm2jscnmainv171206js': 1, 'sThemecastAdScriptUrl': 1, 'httpssslpstaticnettvetalibsassetsjspcmainminpcvetacoreminjs20170914': 1, 'nmainJSpushsThemecastAdScriptUrl': 1, 'loadJS': 1, 'jindoLazyLoadingloadnmainJS': 1, 'JEagleEyeClientsetEnabletrue': 1, 'iftypeof': 1, 'initPage': 2, 'openDatenulladMapnullcodeLIVINGHOMEname리빙csslivinghomenclicklifopenDatenulladMapnullcodeLIVINGname푸드csslivingnclickfodopenDatenulladMapnullcodeSPORTSname스포츠csssportsnclickspoopenDatenulladMapnullcodeCARGAMEname자동차csscargamenclickautopenDatenulladMapnullcodeBEAUTYname패션뷰티cssbeautynclickbtyopenDatenulladMapnullcodeMOMKIDSname맘·키즈cssmomkidsnclickmomopenDatenulladMapnullcodeHEALTHname건강csshealthnclickheaopenDatenulladMapnullcodeBBOOMname웹툰cssbboomnclickwebopenDatenulladMapnullcodeGAMEAPPname게임cssgameappnclickgamopenDatenulladMapnullcodeVIDEOnameTV연예cssvideonclicktvcopenDatenulladMapnullcodeMUSICname뮤직cssmusicnclickmucopenDatenulladMapnullcodeMOVIEname영화cssmovienclickmovopenDatenulladMapnullcodeCULTUREname책문화cssculturenclickbokopenDatenulladMapnullcodeWITHname함께NcsswithnclickpubopenDatenulladMapnullcodeTRAVELname여행csstravelnclicktraopenDatenulladMapnullcodeDESIGNname디자인cssdesignnclickdesopenDatenulladMapnullcodeFINANCEname경제McssfinancenclickfinopenDatenulladMapnullcodeJOBnameJOBcssjobnclickjobopenDatenulladMapnullcodeSCIENCEname과학csssciencenclicksciopenDatenulladMapnullcodeCHINAname중국csschinanclickchnopenDatenulladMapnullcodeBUSINESSname비즈니스cssbusinessnclickbsnopenDatenulladMapnullcodeFARMnameFARMcssfarmnclickfaropenDatenulladMapnullcodeSCHOOLname스쿨잼cssschoolnclicksclopenDate20170622adMapnullcodeSHOWname공연전시cssshownclicksowopenDate20170803adMapnullcodeLAWname법률csslawnclicklawopenDate20170824adMapnullcodeANIMALname동물공감cssanimalnclickaniopenDate20170831adMapnullcodeWEDDINGname연애·결혼cssweddingnclickwedopenDate20170921adMapnullcodeITTECHname테크cssittechnclicktec': 1, 'JEagleEyeClientsendErrorinvalid': 1, 'paneljson': 1, 'navermainPageRefreshinit': 1, 'navermainPanelinitaPanelListAll': 1, 'navermainLoginit': 1, 'navermainServiceNaviinit': 1, 'navermainThemecastNaviinit': 1, 'bFlick': 1, 'sAdList': 1, 'headermsgsuccesscode0bodyadScriptListadScriptPCMain1httpshttpssslpstaticnettvetalibsassetsjspcmainminpcvetacoreminjshttphttpssslpstaticnettvetalibsassetsjspcmainminpcvetacoreminjsadListmenuBEAUTYadTypesingleDommultiDomAdUrlmultiDomUnitinfoListadposId1000106singleDomAdUrlhttpnvvetanavercomfxshowparamdadomidpmainbeauty00tbBEAUTY1unitSU10249typepositionrelpositionIndex0subjectcontentsdomnullmenuBUSINESSadTypesingleDommultiDomAdUrlmultiDomUnitinfoListadposId1000084singleDomAdUrlhttpnvvetanavercomfxshowparamdadomidpmainbusiness00tbBUSINESS1unitSU10204typepositionrelpositionIndex0subjectcontentsdomnullmenuCARGAMEadTypesingleDommultiDomAdUrlmultiDomUnitinfoListadposId1000102singleDomAdUrlhttpnvvetanavercomfxshowparamdadomidpmaincargame00tbCARGAME1unitSU10253typepositionrelpositionIndex0subjectcontentsdomnullmenuCHINAadTypesingleDommultiDomAdUrlmultiDomUnitinfoListadposId1000107singleDomAdUrlhttpnvvetanavercomfxshowparamdadomidpmainchina00tbCHINA1unitSU10206typepositionrelpositionIndex0subjectcontentsdomnullmenuDESIGNadTypesingleDommultiDomAdUrlmultiDomUnitinfoListadposId1000090singleDomAdUrlhttpnvvetanavercomfxshowparamdadomidpmaindesign00tbDESIGN1unitSU10205typepositionrelpositionIndex0subjectcontentsdomnullmenuFARMadTypesingleDommultiDomAdUrlmultiDomUnitinfoListadposId1000101singleDomAdUrlhttpnvvetanavercomfxshowparamdadomidpmainfarm00tbFARM1unitSU10207typepositionrelpositionIndex0subjectcontentsdomnullmenuFINANCEadTypesingleDommultiDomAdUrlmultiDomUnitinfoListadposId1000105singleDomAdUrlhttpnvvetanavercomfxshowparamdadomidpmainfinance00tbFINANCE1unitSU10250typepositionrelpositionIndex0subjectcontentsdomnullmenuJOBadTypesingleDommultiDomAdUrlmultiDomUnitinfoListadposId1000088singleDomAdUrlhttpnvvetanavercomfxshowparamdadomidpmainjob00tbJOB1unitSU10200typepositionrelpositionIndex0subjectcontentsdomnullmenuLAWadTypesingleDommultiDomAdUrlmultiDomUnitinfoListadposId1000100singleDomAdUrlhttpnvvetanavercomfxshowparamdadomidpmainlaw00tbLAW1unitSU10255typepositionrelpositionIndex0subjectcontentsdomnullmenuLIVINGadTypesingleDommultiDomAdUrlmultiDomUnitinfoListadposId1000104singleDomAdUrlhttpnvvetanavercomfxshowparamdadomidpmainliving00tbLIVING1unitSU10251typepositionrelpositionIndex0subjectcontentsdomnullmenuLIVINGHOMEadTypesingleDommultiDomAdUrlmultiDomUnitinfoListadposId1000103singleDomAdUrlhttpnvvetanavercomfxshowparamdadomidpmainlivinghome00tbLIVINGHOME1unitSU10252typepositionrelpositionIndex0subjectcontentsdomnullmenuMOMKIDSadTypesingleDommultiDomAdUrlmultiDomUnitinfoListadposId1000089singleDomAdUrlhttpnvvetanavercomfxshowparamdadomidpmainmomkids00tbMOMKIDS1unitSU10226typepositionrelpositionIndex0subjectcontentsdomnullmenuMOVIEadTypesingleDommultiDomAdUrlmultiDomUnitinfoListadposId1000087singleDomAdUrlhttpnvvetanavercomfxshowparamdadomidpmainmovie00tbMOVIE1unitSU10199typepositionrelpositionIndex0subjectcontentsdomnullmenuSCHOOLadTypesingleDommultiDomAdUrlmultiDomUnitinfoListadposId1000085singleDomAdUrlhttpnvvetanavercomfxshowparamdadomidpmainschool01tbSCHOOL1unitSU10210typepositionrelpositionIndex0subjectcontentsdomnullmenuTRAVELadTypesingleDommultiDomAdUrlmultiDomUnitinfoListadposId1000086singleDomAdUrlhttpnvvetanavercomfxshowparamdadomidpmaintravel00tbTRAVEL1unitSU10198typepositionrelpositionIndex0subjectcontentsdomnull': 1, 'navermainCenterBannerinit': 1, 'newSmartSearch': 1, 'navermainNewsstand': 1, 'rcode': 1, '09140167': 1, 'newspaperURL': 1, 'newspapernavercom': 1, 'newsStandURL': 1, 'newsstandnavercom': 1, 'userInfoURL': 1, 'userinfowwwnavercom': 1, 'newsCastInfo': 1, 'newsStandInfo': 1, 'headlineList': 1, 'pid': 1, '002003005006008009011013014015016018020021022023024025028029030031032038042044047050052055056057073075076079081082083087088089092108109117120122123135138139140143144213214215241243277293296308310311312314326327328329330331332333334335336337338339340344345346354355356361362363364366368374376384385386387388389390391396404410416417421422440447529536539901902903904905906907908909910911912913914915916917920921922923924925926927928930932933934935936937938939940941942943944945946947948949950951952953954955956957958959960961962963964965966967968969971': 1, 'amigo': 1, '': 13, 'invalid': 1, 'pressCategory': 1, 'ct1pid032name경향신문imghttpsspstaticnetstaticnewsstandup20170424nsd14372435pngcatect2amigoNviewerYtodayNlocalnullpid005name국민일보imghttpsspstaticnetstaticnewsstandup20170424nsd1438916pngcatect2amigoNviewerYtodayNlocalnullpid079name노컷뉴스imghttpsspstaticnetstaticnewsstandup20170424nsd143958887pngcatect2amigoNviewerYtodayNlocalnullpid327name뉴데일리imghttpsspstaticnetstaticnewsstandup20170424nsd144037935pngcatect2amigoNviewerYtodayNlocalnullpid003name뉴시스imghttpsspstaticnetstaticnewsstandup20170424nsd14449981pngcatect3amigoNviewerYtodayNlocalnullpid368name데일리안imghttpsspstaticnetstaticnewsstandup20170424nsd14463367pngcatect2amigoNviewerYtodayNlocalnullpid020name동아일보imghttpsspstaticnetstaticnewsstandup20170424nsd14479875pngcatect2amigoNviewerYtodayNlocalnullpid029name디지털타임스imghttpsspstaticnetstaticnewsstandup20170424nsd144824356pngcatect4amigoNviewerYtodayNlocalnullpid117name마이데일리imghttpsspstaticnetstaticnewsstandup20170424nsd144944309pngcatect6amigoNviewerYtodayNlocalnullpid009name매일경제imghttpsspstaticnetstaticnewsstandup20170424nsd145032565pngcatect2amigoNviewerYtodayNlocalnullpid008name머니투데이imghttpsspstaticnetstaticnewsstandup20170424nsd145214517pngcatect2amigoNviewerYtodayNlocalnullpid021name문화일보imghttpsspstaticnetstaticnewsstandup20170424nsd19245981pngcatect2amigoNviewerYtodayNlocalnullpid006name미디어오늘imghttpsspstaticnetstaticnewsstandup20170424nsd145346617pngcatect2amigoNviewerYtodayNlocalnullpid293name블로터imghttpsspstaticnetstaticnewsstandup20170424nsd145534698pngcatect4amigoNviewerYtodayNlocalnullpid011name서울경제imghttpsspstaticnetstaticnewsstandup20170424nsd145718601pngcatect2amigoNviewerYtodayNlocalnullpid081name서울신문imghttpsspstaticnetstaticnewsstandup20170424nsd145738195pngcatect2amigoNviewerYtodayNlocalnullpid022name세계일보imghttpsspstaticnetstaticnewsstandup20170424nsd145813557pngcatect2amigoNviewerYtodayNlocalnullpid314name스포츠동아imghttpsspstaticnetstaticnewsstandup20170424nsd145951763pngcatect6amigoNviewerYtodayNlocalnullpid076name스포츠조선imghttpsspstaticnetstaticnewsstandup20170424nsd183553864pngcatect6amigoNviewerYtodayNlocalnullpid139name스포탈코리아imghttpsspstaticnetstaticnewsstandup20170424nsd151840663pngcatect6amigoNviewerYtodayNlocalnullpid277name아시아경제imghttpsspstaticnetstaticnewsstandup20170424nsd153432228pngcatect2amigoNviewerYtodayNlocalnullpid031name아이뉴스24imghttpsspstaticnetstaticnewsstandup20170424nsd153955864pngcatect4amigoNviewerYtodayNlocalnullpid047name오마이뉴스imghttpsspstaticnetstaticnewsstandup20170424nsd154314463pngcatect2amigoNviewerYtodayNlocalnullpid018name이데일리imghttpsspstaticnetstaticnewsstandup20170424nsd154426359pngcatect2amigoNviewerYtodayNlocalnullpid241name일간스포츠imghttpsspstaticnetstaticnewsstandup20170424nsd154619739pngcatect6amigoNviewerYtodayNlocalnullpid030name전자신문imghttpsspstaticnetstaticnewsstandup20170424nsd162528724pngcatect4amigoNviewerYtodayNlocalnullpid366name조선비즈imghttpsspstaticnetstaticnewsstandup20170424nsd162659528pngcatect2amigoNviewerYtodayNlocalnullpid023name조선일보imghttpsspstaticnetstaticnewsstandup20170424nsd162718792pngcatect2amigoNviewerYtodayNlocalnullpid330name중앙데일리imghttpsspstaticnetstaticnewsstandup20170424nsd162959945pngcatect5amigoNviewerYtodayNlocalnullpid025name중앙일보imghttpsspstaticnetstaticnewsstandup20170424nsd164240664pngcatect2amigoNviewerYtodayNlocalnullpid092name지디넷코리아imghttpsspstaticnetstaticnewsstandup20170424nsd16425834pngcatect4amigoNviewerYtodayNlocalnullpid376name지지통신imghttpsspstaticnetstaticnewsstandup20170424nsd16432873pngcatect3amigoNviewerYtodayNlocalnullpid044name코리아헤럴드imghttpsspstaticnetstaticnewsstandup20170424nsd17341942pngcatect5amigoNviewerYtodayNlocalnullpid014name파이낸셜뉴스imghttpsspstaticnetstaticnewsstandup20170424nsd172557496pngcatect2amigoNviewerYtodayNlocalnullpid002name프레시안imghttpsspstaticnetstaticnewsstandup20170424nsd172615885pngcatect2amigoNviewerYtodayNlocalnullpid028name한겨레imghttpsspstaticnetstaticnewsstandup20170424nsd17263596pngcatect2amigoNviewerYtodayNlocalnullpid015name한국경제imghttpsspstaticnetstaticnewsstandup20170424nsd172736175pngcatect2amigoNviewerYtodayNlocalnullpid215name한국경제TVimghttpsspstaticnetstaticnewsstandup20170424nsd172755139pngcatect3amigoNviewerYtodayNlocalnullpid038name한국일보imghttpsspstaticnetstaticnewsstandup20170424nsd172837200pngcatect2amigoNviewerYtodayNlocalnullpid016name헤럴드경제imghttpsspstaticnetstaticnewsstandup20170424nsd172855569pngcatect2amigoNviewerYtodayNlocalnullpid056nameKBSimghttpsspstaticnetstaticnewsstandup20170424nsd173124306pngcatect3amigoNviewerYtodayNlocalnullpid326nameKBS': 1, 'Worldimghttpsspstaticnetstaticnewsstandup20170424nsd173138949pngcatect5amigoNviewerYtodayNlocalnullpid214nameMBCimghttpsspstaticnetstaticnewsstandup20170424nsd17324940pngcatect3amigoNviewerYtodayNlocalnullpid057nameMBNimghttpsspstaticnetstaticnewsstandup20170424nsd173223533pngcatect3amigoNviewerYtodayNlocalnullpid109nameOSENimghttpsspstaticnetstaticnewsstandup20170424nsd17338859pngcatect6amigoNviewerYtodayNlocalnullpid055nameSBSimghttpsspstaticnetstaticnewsstandup20170424nsd173335676pngcatect3amigoNviewerYtodayNlocalnullpid052nameYTNimghttpsspstaticnetstaticnewsstandup20170424nsd173559874pngcatect3amigoNviewerYtodayNlocalnullct2pid960name건설경제신문imghttpsspstaticnetstaticnewsstandup20171201nsd161545206pngcatect2amigoNviewerYtodayNlocalnullpid032name경향신문imghttpsspstaticnetstaticnewsstandup20170424nsd14372435pngcatect2amigoNviewerYtodayNlocalnullpid005name국민일보imghttpsspstaticnetstaticnewsstandup20170424nsd1438916pngcatect2amigoNviewerYtodayNlocalnullpid944name나우뉴스imghttpsspstaticnetstaticnewsstandup20170424nsd14392079pngcatect2amigoNviewerYtodayNlocalnullpid079name노컷뉴스imghttpsspstaticnetstaticnewsstandup20170424nsd143958887pngcatect2amigoNviewerYtodayNlocalnullpid327name뉴데일리imghttpsspstaticnetstaticnewsstandup20170424nsd144037935pngcatect2amigoNviewerYtodayNlocalnullpid930name뉴스타파imghttpsspstaticnetstaticnewsstandup20170424nsd144152433pngcatect2amigoNviewerYtodayNlocalnullpid913name뉴스토마토imghttpsspstaticnetstaticnewsstandup20170424nsd14431117pngcatect2amigoNviewerYtodayNlocalnullpid914name뉴스핌imghttpsspstaticnetstaticnewsstandup20170613nsd173430698pngcatect2amigoNviewerYtodayNlocalnullpid536name더팩트imghttpsspstaticnetstaticnewsstandup20170424nsd144543120pngcatect2amigoNviewerYtodayNlocalnullpid368name데일리안imghttpsspstaticnetstaticnewsstandup20170424nsd14463367pngcatect2amigoNviewerYtodayNlocalnullpid020name동아일보imghttpsspstaticnetstaticnewsstandup20170424nsd14479875pngcatect2amigoNviewerYtodayNlocalnullpid009name매일경제imghttpsspstaticnetstaticnewsstandup20170424nsd145032565pngcatect2amigoNviewerYtodayNlocalnullpid969name매일노동뉴스imghttpsspstaticnetstaticnewsstandup20171201nsd161443290pngcatect2amigoNviewerYtodayNlocalnullpid417name머니에스imghttpsspstaticnetstaticnewsstandup20170424nsd145150694pngcatect2amigoNviewerYtodayNlocalnullpid008name머니투데이imghttpsspstaticnetstaticnewsstandup20170424nsd145214517pngcatect2amigoNviewerYtodayNlocalnullpid961name메트로신문imghttpsspstaticnetstaticnewsstandup20171201nsd161618979pngcatect2amigoNviewerYtodayNlocalnullpid021name문화일보imghttpsspstaticnetstaticnewsstandup20170424nsd19245981pngcatect2amigoNviewerYtodayNlocalnullpid006name미디어오늘imghttpsspstaticnetstaticnewsstandup20170424nsd145346617pngcatect2amigoNviewerYtodayNlocalnullpid939name브릿지경제imghttpsspstaticnetstaticnewsstandup20170424nsd145512265pngcatect2amigoNviewerYtodayNlocalnullpid943name비즈니스워치imghttpsspstaticnetstaticnewsstandup20171102nsd155540688pngcatect2amigoNviewerYtodayNlocalnullpid942name비즈니스포스트imghttpsspstaticnetstaticnewsstandup20170424nsd145630550pngcatect2amigoNviewerYtodayNlocalnullpid011name서울경제imghttpsspstaticnetstaticnewsstandup20170424nsd145718601pngcatect2amigoNviewerYtodayNlocalnullpid081name서울신문imghttpsspstaticnetstaticnewsstandup20170424nsd145738195pngcatect2amigoNviewerYtodayNlocalnullpid022name세계일보imghttpsspstaticnetstaticnewsstandup20170424nsd145813557pngcatect2amigoNviewerYtodayNlocalnullpid957name시사위크imghttpsspstaticnetstaticnewsstandup20171127nsd8401364pngcatect2amigoNviewerYtodayNlocalnullpid277name아시아경제imghttpsspstaticnetstaticnewsstandup20170424nsd153432228pngcatect2amigoNviewerYtodayNlocalnullpid920name아시아투데이imghttpsspstaticnetstaticnewsstandup20170424nsd153458161pngcatect2amigoNviewerYtodayNlocalnullpid921name아주경제imghttpsspstaticnetstaticnewsstandup20171209nsd14543234pngcatect2amigoNviewerYtodayNlocalnullpid963name에너지경제imghttpsspstaticnetstaticnewsstandup20171201nsd16171599pngcatect2amigoNviewerYtodayNlocalnullpid013name연합인포맥스imghttpsspstaticnetstaticnewsstandup20170424nsd154238686pngcatect2amigoNviewerYtodayNlocalnullpid047name오마이뉴스imghttpsspstaticnetstaticnewsstandup20170424nsd154314463pngcatect2amigoNviewerYtodayNlocalnullpid539name위키트리imghttpsspstaticnetstaticnewsstandup20170424nsd15444343pngcatect2amigoNviewerYtodayNlocalnullpid964name이뉴스투데이imghttpsspstaticnetstaticnewsstandup20171201nsd16174237pngcatect2amigoNviewerYtodayNlocalnullpid018name이데일리imghttpsspstaticnetstaticnewsstandup20170424nsd154426359pngcatect2amigoNviewerYtodayNlocalnullpid243name이코노미스트imghttpsspstaticnetstaticnewsstandup20170424nsd15444742pngcatect2amigoNviewerYtodayNlocalnullpid922name이투데이imghttpsspstaticnetstaticnewsstandup20170424nsd15453589pngcatect2amigoNviewerYtodayNlocalnullpid923name인민망imghttpsspstaticnetstaticnewsstandup20170424nsd154522345pngcatect2amigoNviewerYtodayNlocalnullpid971name일요시사imghttpsspstaticnetstaticnewsstandup20171205nsd95610984pngcatect2amigoNviewerYtodayNlocalnullpid925name일요신문imghttpsspstaticnetstaticnewsstandup20170424nsd192546763pngcatect2amigoNviewerYtodayNlocalnullpid366name조선비즈imghttpsspstaticnetstaticnewsstandup20170424nsd162659528pngcatect2amigoNviewerYtodayNlocalnullpid023name조선일보imghttpsspstaticnetstaticnewsstandup20170424nsd162718792pngcatect2amigoNviewerYtodayNlocalnullpid123name조세일보imghttpsspstaticnetstaticnewsstandup20170424nsd162739461pngcatect2amigoNviewerYtodayNlocalnullpid025name중앙일보imghttpsspstaticnetstaticnewsstandup20170424nsd164240664pngcatect2amigoNviewerYtodayNlocalnullpid941name초이스경제imghttpsspstaticnetstaticnewsstandup20170424nsd164431529pngcatect2amigoNviewerYtodayNlocalnullpid143name쿠키뉴스imghttpsspstaticnetstaticnewsstandup20170424nsd172415111pngcatect2amigoNviewerYtodayNlocalnullpid014name파이낸셜뉴스imghttpsspstaticnetstaticnewsstandup20170424nsd172557496pngcatect2amigoNviewerYtodayNlocalnullpid002name프레시안imghttpsspstaticnetstaticnewsstandup20170424nsd172615885pngcatect2amigoNviewerYtodayNlocalnullpid028name한겨레imghttpsspstaticnetstaticnewsstandup20170424nsd17263596pngcatect2amigoNviewerYtodayNlocalnullpid015name한국경제imghttpsspstaticnetstaticnewsstandup20170424nsd172736175pngcatect2amigoNviewerYtodayNlocalnullpid968name한국금융신문imghttpsspstaticnetstaticnewsstandup20171201nsd161235556pngcatect2amigoNviewerYtodayNlocalnullpid038name한국일보imghttpsspstaticnetstaticnewsstandup20170424nsd172837200pngcatect2amigoNviewerYtodayNlocalnullpid016name헤럴드경제imghttpsspstaticnetstaticnewsstandup20170424nsd172855569pngcatect2amigoNviewerYtodayNlocalnullpid932nameCEO스코어데일리imghttpsspstaticnetstaticnewsstandup20170904nsd10420716pngcatect2amigoNviewerYtodayNlocalnullpid954nameCNB뉴스imghttpsspstaticnetstaticnewsstandup20171122nsd113655834pngcatect2amigoNviewerYtodayNlocalnullpid120nameEBNimghttpsspstaticnetstaticnewsstandup20171017nsd173540697pngcatect2amigoNviewerYtodayNlocalnullpid959nameM이코노미imghttpsspstaticnetstaticnewsstandup20171201nsd161518383pngcatect2amigoNviewerYtodayNlocalnullct3pid421name뉴스1imghttpsspstaticnetstaticnewsstandup20170424nsd14405515pngcatect3amigoNviewerYtodayNlocalnullpid003name뉴시스imghttpsspstaticnetstaticnewsstandup20170424nsd14449981pngcatect3amigoNviewerYtodayNlocalnullpid916name머니투데이방송imghttpsspstaticnetstaticnewsstandup20170424nsd145249746pngcatect3amigoNviewerYtodayNlocalnullpid934name아리랑TVimghttpsspstaticnetstaticnewsstandup20170424nsd153357809pngcatect3amigoNviewerYtodayNlocalnullpid422name연합뉴스TVimghttpsspstaticnetstaticnewsstandup20170424nsd154219877pngcatect3amigoNviewerYtodayNlocalnullpid376name지지통신imghttpsspstaticnetstaticnewsstandup20170424nsd16432873pngcatect3amigoNviewerYtodayNlocalnullpid903name채널에이imghttpsspstaticnetstaticnewsstandup20170424nsd164352456pngcatect3amigoNviewerYtodayNlocalnullpid215name한국경제TVimghttpsspstaticnetstaticnewsstandup20170424nsd172755139pngcatect3amigoNviewerYtodayNlocalnullpid933nameCNNimghttpsspstaticnetstaticnewsstandup20170424nsd173010586pngcatect3amigoNviewerYtodayNlocalnullpid344nameEBSimghttpsspstaticnetstaticnewsstandup20170424nsd173043431pngcatect3amigoNviewerYtodayNlocalnullpid904nameJTBCimghttpsspstaticnetstaticnewsstandup20170424nsd173111263pngcatect3amigoNviewerYtodayNlocalnullpid056nameKBSimghttpsspstaticnetstaticnewsstandup20170424nsd173124306pngcatect3amigoNviewerYtodayNlocalnullpid906nameKNNimghttpsspstaticnetstaticnewsstandup20170424nsd173151831pngcatect3amigoNviewerYtodayNlocalnullpid214nameMBCimghttpsspstaticnetstaticnewsstandup20170424nsd17324940pngcatect3amigoNviewerYtodayNlocalnullpid057nameMBNimghttpsspstaticnetstaticnewsstandup20170424nsd173223533pngcatect3amigoNviewerYtodayNlocalnullpid340nameOBSimghttpsspstaticnetstaticnewsstandup20170424nsd173252323pngcatect3amigoNviewerYtodayNlocalnullpid055nameSBSimghttpsspstaticnetstaticnewsstandup20170424nsd173335676pngcatect3amigoNviewerYtodayNlocalnullpid374nameSBSCNBCimghttpsspstaticnetstaticnewsstandup20170424nsd173348251pngcatect3amigoNviewerYtodayNlocalnullpid902nameTV조선imghttpsspstaticnetstaticnewsstandup20170424nsd1735138pngcatect3amigoNviewerYtodayNlocalnullpid052nameYTNimghttpsspstaticnetstaticnewsstandup20170424nsd173559874pngcatect3amigoNviewerYtodayNlocalnullpid945nameYTN사이언스imghttpsspstaticnetstaticnewsstandup20170424nsd173618176pngcatect3amigoNviewerYtodayNlocalnullct4pid910name넥스트데일리imghttpsspstaticnetstaticnewsstandup20170424nsd143938201pngcatect4amigoNviewerYtodayNlocalnullpid138name디지털데일리imghttpsspstaticnetstaticnewsstandup20170424nsd14481127pngcatect4amigoNviewerYtodayNlocalnullpid029name디지털타임스imghttpsspstaticnetstaticnewsstandup20170424nsd144824356pngcatect4amigoNviewerYtodayNlocalnullpid952name보안뉴스imghttpsspstaticnetstaticnewsstandup20171122nsd113617499pngcatect4amigoNviewerYtodayNlocalnullpid293name블로터imghttpsspstaticnetstaticnewsstandup20170424nsd145534698pngcatect4amigoNviewerYtodayNlocalnullpid031name아이뉴스24imghttpsspstaticnetstaticnewsstandup20170424nsd153955864pngcatect4amigoNviewerYtodayNlocalnullpid030name전자신문imghttpsspstaticnetstaticnewsstandup20170424nsd162528724pngcatect4amigoNviewerYtodayNlocalnullpid092name지디넷코리아imghttpsspstaticnetstaticnewsstandup20170424nsd16425834pngcatect4amigoNviewerYtodayNlocalnullpid953name키뉴스imghttpsspstaticnetstaticnewsstandup20171122nsd113635611pngcatect4amigoNviewerYtodayNlocalnullpid917nameIT조선imghttpsspstaticnetstaticnewsstandup20170424nsd173057968pngcatect4amigoNviewerYtodayNlocalnullct5pid330name중앙데일리imghttpsspstaticnetstaticnewsstandup20170424nsd162959945pngcatect5amigoNviewerYtodayNlocalnullpid044name코리아헤럴드imghttpsspstaticnetstaticnewsstandup20170424nsd17341942pngcatect5amigoNviewerYtodayNlocalnullpid326nameKBS': 1, 'Worldimghttpsspstaticnetstaticnewsstandup20170424nsd173138949pngcatect5amigoNviewerYtodayNlocalnullpid946nameYONHAPNEWSimghttpsspstaticnetstaticnewsstandup20170424nsd173542219pngcatect5amigoNviewerYtodayNlocalnullct6pid447name뉴스엔imghttpsspstaticnetstaticnewsstandup20170424nsd144110729pngcatect6amigoNviewerYtodayNlocalnullpid117name마이데일리imghttpsspstaticnetstaticnewsstandup20170424nsd144944309pngcatect6amigoNviewerYtodayNlocalnullpid108name스타뉴스imghttpsspstaticnetstaticnewsstandup20170424nsd14592836pngcatect6amigoNviewerYtodayNlocalnullpid144name스포츠경향imghttpsspstaticnetstaticnewsstandup20170424nsd14593063pngcatect6amigoNviewerYtodayNlocalnullpid314name스포츠동아imghttpsspstaticnetstaticnewsstandup20170424nsd145951763pngcatect6amigoNviewerYtodayNlocalnullpid073name스포츠서울imghttpsspstaticnetstaticnewsstandup20170424nsd15042554pngcatect6amigoNviewerYtodayNlocalnullpid396name스포츠월드imghttpsspstaticnetstaticnewsstandup20170424nsd1521496pngcatect6amigoNviewerYtodayNlocalnullpid076name스포츠조선imghttpsspstaticnetstaticnewsstandup20170424nsd183553864pngcatect6amigoNviewerYtodayNlocalnullpid940name스포츠투데이imghttpsspstaticnetstaticnewsstandup20170424nsd183628961pngcatect6amigoNviewerYtodayNlocalnullpid962name스포츠한국imghttpsspstaticnetstaticnewsstandup20171201nsd161647719pngcatect6amigoNviewerYtodayNlocalnullpid139name스포탈코리아imghttpsspstaticnetstaticnewsstandup20170424nsd151840663pngcatect6amigoNviewerYtodayNlocalnullpid311name엑스포츠뉴스imghttpsspstaticnetstaticnewsstandup20170424nsd154117pngcatect6amigoNviewerYtodayNlocalnullpid529name엠스플뉴스imghttpsspstaticnetstaticnewsstandup20171121nsd103843372pngcatect6amigoNviewerYtodayNlocalnullpid241name일간스포츠imghttpsspstaticnetstaticnewsstandup20170424nsd154619739pngcatect6amigoNviewerYtodayNlocalnullpid947name조이뉴스24imghttpsspstaticnetstaticnewsstandup20170424nsd162759461pngcatect6amigoNviewerYtodayNlocalnullpid312name텐아시아imghttpsspstaticnetstaticnewsstandup20170424nsd172519405pngcatect6amigoNviewerYtodayNlocalnullpid440name티브이데일리imghttpsspstaticnetstaticnewsstandup20170424nsd172538465pngcatect6amigoNviewerYtodayNlocalnullpid410nameMK스포츠imghttpsspstaticnetstaticnewsstandup20170424nsd173237747pngcatect6amigoNviewerYtodayNlocalnullpid109nameOSENimghttpsspstaticnetstaticnewsstandup20170424nsd17338859pngcatect6amigoNviewerYtodayNlocalnullpid416nameSBS연예스포츠imghttpsspstaticnetstaticnewsstandup20170424nsd173430905pngcatect6amigoNviewerYtodayNlocalnullpid213nameTV리포트imghttpsspstaticnetstaticnewsstandup20170424nsd173446621pngcatect6amigoNviewerYtodayNlocalnullpid404nameenews24imghttpsspstaticnetstaticnewsstandup20170424nsd173715121pngcatect6amigoNviewerYtodayNlocalnullct7pid356name게임메카imghttpsspstaticnetstaticnewsstandup20170424nsd143454437pngcatect7amigoNviewerYtodayNlocalnullpid363name과학동아imghttpsspstaticnetstaticnewsstandup20170424nsd143721586pngcatect7amigoNviewerYtodayNlocalnullpid908name국방일보imghttpsspstaticnetstaticnewsstandup20170424nsd143827635pngcatect7amigoNviewerYtodayNlocalnullpid938name그린포스트코리아imghttpsspstaticnetstaticnewsstandup20171106nsd95428551pngcatect7amigoNviewerYtodayNlocalnullpid911name농민신문imghttpsspstaticnetstaticnewsstandup20170424nsd144020188pngcatect7amigoNviewerYtodayNlocalnullpid912name뉴스컬처imghttpsspstaticnetstaticnewsstandup20170424nsd14412867pngcatect7amigoNviewerYtodayNlocalnullpid905name더스쿠프imghttpsspstaticnetstaticnewsstandup20171121nsd10505811pngcatect7amigoNviewerYtodayNlocalnullpid042name데일리한국imghttpsspstaticnetstaticnewsstandup20170424nsd144629578pngcatect7amigoNviewerYtodayNlocalnullpid955name독서신문imghttpsspstaticnetstaticnewsstandup20171127nsd93333581pngcatect7amigoNviewerYtodayNlocalnullpid345name디자인정글imghttpsspstaticnetstaticnewsstandup20170424nsd144732945pngcatect7amigoNviewerYtodayNlocalnullpid915name르몽드': 1, '디플로마티크imghttpsspstaticnetstaticnewsstandup20170424nsd1449112pngcatect7amigoNviewerYtodayNlocalnullpid024name매경이코노미imghttpsspstaticnetstaticnewsstandup20170424nsd145011543pngcatect7amigoNviewerYtodayNlocalnullpid075name맥스무비imghttpsspstaticnetstaticnewsstandup20170424nsd183033195pngcatect7amigoNviewerYtodayNlocalnullpid122name법률신문imghttpsspstaticnetstaticnewsstandup20170424nsd145431309pngcatect7amigoNviewerYtodayNlocalnullpid958name베리타스알파imghttpsspstaticnetstaticnewsstandup20171201nsd161315555pngcatect7amigoNviewerYtodayNlocalnullpid355name사이언스타임즈imghttpsspstaticnetstaticnewsstandup20170424nsd145657590pngcatect7amigoNviewerYtodayNlocalnullpid329name소년한국일보imghttpsspstaticnetstaticnewsstandup20170424nsd14583498pngcatect7amigoNviewerYtodayNlocalnullpid956name스틸앤메탈뉴스imghttpsspstaticnetstaticnewsstandup20171201nsd16135975pngcatect7amigoNviewerYtodayNlocalnullpid308name시사인imghttpsspstaticnetstaticnewsstandup20170424nsd151929775pngcatect7amigoNviewerYtodayNlocalnullpid135name시사저널imghttpsspstaticnetstaticnewsstandup20170424nsd153228485pngcatect7amigoNviewerYtodayNlocalnullpid140name씨네21imghttpsspstaticnetstaticnewsstandup20170424nsd153251814pngcatect7amigoNviewerYtodayNlocalnullpid328name에이블뉴스imghttpsspstaticnetstaticnewsstandup20170424nsd154040656pngcatect7amigoNviewerYtodayNlocalnullpid354name엘르imghttpsspstaticnetstaticnewsstandup20170424nsd154119884pngcatect7amigoNviewerYtodayNlocalnullpid310name여성신문imghttpsspstaticnetstaticnewsstandup20170424nsd154151666pngcatect7amigoNviewerYtodayNlocalnullpid950name월간중앙imghttpsspstaticnetstaticnewsstandup20171122nsd113515807pngcatect7amigoNviewerYtodayNlocalnullpid924name인벤imghttpsspstaticnetstaticnewsstandup20170424nsd154539705pngcatect7amigoNviewerYtodayNlocalnullpid362name자동차생활imghttpsspstaticnetstaticnewsstandup20170424nsd162354371pngcatect7amigoNviewerYtodayNlocalnullpid965name전기신문imghttpsspstaticnetstaticnewsstandup20171201nsd161818802pngcatect7amigoNviewerYtodayNlocalnullpid966name정신의학신문imghttpsspstaticnetstaticnewsstandup20171201nsd161847464pngcatect7amigoNviewerYtodayNlocalnullpid361name채널예스imghttpsspstaticnetstaticnewsstandup20170424nsd164412540pngcatect7amigoNviewerYtodayNlocalnullpid928name컴퓨터월드imghttpsspstaticnetstaticnewsstandup20170424nsd17150763pngcatect7amigoNviewerYtodayNlocalnullpid967name코리아쉬핑가제트imghttpsspstaticnetstaticnewsstandup20171201nsd162046351pngcatect7amigoNviewerYtodayNlocalnullpid296name코메디닷컴imghttpsspstaticnetstaticnewsstandup20170424nsd172354656pngcatect7amigoNviewerYtodayNlocalnullpid951name포브스코리아imghttpsspstaticnetstaticnewsstandup20171122nsd113546163pngcatect7amigoNviewerYtodayNlocalnullpid948name한겨레21imghttpsspstaticnetstaticnewsstandup20170424nsd172654646pngcatect7amigoNviewerYtodayNlocalnullpid050name한경비즈니스imghttpsspstaticnetstaticnewsstandup20170424nsd172712628pngcatect7amigoNviewerYtodayNlocalnullpid384name한국대학신문imghttpsspstaticnetstaticnewsstandup20170424nsd172816434pngcatect7amigoNviewerYtodayNlocalnullpid346name헬스조선imghttpsspstaticnetstaticnewsstandup20170424nsd172911723pngcatect7amigoNviewerYtodayNlocalnullpid364namePC사랑imghttpsspstaticnetstaticnewsstandup20170424nsd173322105pngcatect7amigoNviewerYtodayNlocalnullpid949nameTheAsiaNimghttpsspstaticnetstaticnewsstandup20170424nsd173523100pngcatect7amigoNviewerYtodayNlocalnullct8pid335name강원도민일보imghttpsspstaticnetstaticnewsstandup20170424nsd14341394pngcatect8amigoNviewerYtodayNlocalname강원code01pid087name강원일보imghttpsspstaticnetstaticnewsstandup20170424nsd143434899pngcatect8amigoNviewerYtodayNlocalname강원code01pid339name경기일보imghttpsspstaticnetstaticnewsstandup20170424nsd143511509pngcatect8amigoNviewerYtodayNlocalname경기code02name인천code11pid333name경남신문imghttpsspstaticnetstaticnewsstandup20170424nsd143531816pngcatect8amigoNviewerYtodayNlocalname경남code03name부산code08name울산code10pid907name경북매일신문imghttpsspstaticnetstaticnewsstandup20170424nsd143555345pngcatect8amigoNviewerYtodayNlocalname경북code04name대구code06pid337name경북일보imghttpsspstaticnetstaticnewsstandup20170424nsd143612100pngcatect8amigoNviewerYtodayNlocalname경북code04name대구code06name울산code10pid935name경상일보imghttpsspstaticnetstaticnewsstandup20170424nsd143628241pngcatect8amigoNviewerYtodayNlocalname울산code10pid338name경인일보imghttpsspstaticnetstaticnewsstandup20170424nsd143645415pngcatect8amigoNviewerYtodayNlocalname경기code02name인천code11pid301name광주드림imghttpsspstaticnetstaticnewsstandup20171201nsd17629468pngcatect8amigoNviewerYtodayNlocalname광주code05pid083name광주일보imghttpsspstaticnetstaticnewsstandup20170424nsd143742681pngcatect8amigoNviewerYtodayNlocalname광주code05name전남code12pid332name국제신문imghttpsspstaticnetstaticnewsstandup20170424nsd143844997pngcatect8amigoNviewerYtodayNlocalname경남code03name부산code08name울산code10pid909name기호일보imghttpsspstaticnetstaticnewsstandup20170424nsd14392544pngcatect8amigoNviewerYtodayNlocalname경기code02name인천code11pid936name대구일보imghttpsspstaticnetstaticnewsstandup20170424nsd144433908pngcatect8amigoNviewerYtodayNlocalname경북code04name대구code06pid089name대전일보imghttpsspstaticnetstaticnewsstandup20170424nsd144457151pngcatect8amigoNviewerYtodayNlocalname대전code07name충남code15name충북code16name세종code17pid088name매일신문imghttpsspstaticnetstaticnewsstandup20170424nsd14505572pngcatect8amigoNviewerYtodayNlocalname경북code04name대구code06pid082name부산일보imghttpsspstaticnetstaticnewsstandup20170424nsd145450220pngcatect8amigoNviewerYtodayNlocalname경남code03name부산code08name울산code10pid385name영남일보imghttpsspstaticnetstaticnewsstandup20170424nsd154255890pngcatect8amigoNviewerYtodayNlocalname경북code04name대구code06pid386name울산매일imghttpsspstaticnetstaticnewsstandup20170424nsd154334776pngcatect8amigoNviewerYtodayNlocalname울산code10pid387name인천일보imghttpsspstaticnetstaticnewsstandup20170424nsd154558680pngcatect8amigoNviewerYtodayNlocalname경기code02name인천code11pid388name전남일보imghttpsspstaticnetstaticnewsstandup20170424nsd162423309pngcatect8amigoNviewerYtodayNlocalname광주code05name전남code12pid937name전북도민일보imghttpsspstaticnetstaticnewsstandup20170424nsd16244628pngcatect8amigoNviewerYtodayNlocalname전북code13pid336name전북일보imghttpsspstaticnetstaticnewsstandup20170424nsd16256807pngcatect8amigoNviewerYtodayNlocalname전북code13pid901name제민일보imghttpsspstaticnetstaticnewsstandup20170424nsd16254923pngcatect8amigoNviewerYtodayNlocalname제주code14pid389name제주도민일보imghttpsspstaticnetstaticnewsstandup20170424nsd1626960pngcatect8amigoNviewerYtodayNlocalname제주code14pid334name제주의소리imghttpsspstaticnetstaticnewsstandup20170424nsd162631114pngcatect8amigoNviewerYtodayNlocalname제주code14pid390name중도일보imghttpsspstaticnetstaticnewsstandup20170424nsd162822857pngcatect8amigoNviewerYtodayNlocalname대전code07name충남code15pid926name중부일보imghttpsspstaticnetstaticnewsstandup20170424nsd162931439pngcatect8amigoNviewerYtodayNlocalname경기code02name인천code11pid927name충북일보imghttpsspstaticnetstaticnewsstandup20170424nsd164449667pngcatect8amigoNviewerYtodayNlocalname충북code16name세종code17pid391name충청일보imghttpsspstaticnetstaticnewsstandup20170424nsd17115481pngcatect8amigoNviewerYtodayNlocalname대전code07name충남code15name충북code16name세종code17pid331name충청투데이imghttpsspstaticnetstaticnewsstandup20170424nsd17133978pngcatect8amigoNviewerYtodayNlocalname대전code07name충남code15name충북code16name세종code17': 1, 'isSupportedFlicking': 2, 'navermainTimesquare': 1, 'aOrderedPanel': 1, 'codeweathername날씨codenewsname뉴스codesportsname스포츠codeconversationname회화codelifetoolsname생활도구': 1, 'navermainRealtimeKeyword': 1, 'Agentnavigatorie': 1, 'Agentnavigatorversion': 1, '300630073008300930103011301230133014301530163017301830193020': 1}\n"
     ]
    }
   ],
   "source": [
    "from urllib import request \n",
    " \n",
    "url = 'http://www.naver.com'\n",
    "f = request.urlopen(url)\n",
    "source_bytes = f.read()\n",
    "source = source_bytes.decode('utf-8')\n",
    "re = source.split('<')\n",
    "i = 0\n",
    "st = ''\n",
    "count = 0\n",
    "s2 = list(range(len(re)))\n",
    "s3 = list(range(len(re)))\n",
    "for x in re[1:]:\n",
    "    if '>' not in x:\n",
    "        re.remove(x)\n",
    "for x in re[1:]:\n",
    "    s = x.split('>')\n",
    "    s.reverse()\n",
    "    s3[i] = s[0]\n",
    "    i = i+1\n",
    "for x in s3:\n",
    "    st = st+str(x)\n",
    "st1 = st.split()\n",
    "for x in st1:\n",
    "    count = count+1\n",
    "#print(count)\n",
    "#print(st1)\n",
    "\n",
    "i = 0\n",
    "P = list(range(len(string.punctuation)))\n",
    "L = st1\n",
    "for k in string.punctuation:\n",
    "    P[i] = k\n",
    "    i = i+1\n",
    "V = []\n",
    "M = {}\n",
    "for k in L:\n",
    "    for x in P:\n",
    "        if x in k:\n",
    "            num = k.count(x)\n",
    "            for t in range(num):\n",
    "                idx = k.index(x)\n",
    "                k = k[:idx] + k[idx+1:]\n",
    "    V.append(k)\n",
    "for k in V:\n",
    "    if len(k)==0:\n",
    "        V.remove(k)\n",
    "for k in V:\n",
    "    M[k] = V.count(k)\n",
    "#print(V)\n",
    "print(M)"
   ]
  },
  {
   "cell_type": "code",
   "execution_count": 71,
   "metadata": {},
   "outputs": [
    {
     "name": "stdout",
     "output_type": "stream",
     "text": [
      "{'Daum': 1, 'charset': 1, 'utf8': 1, 'bodydivdldtddulollih1h2h3h4h5h6precodeformfieldsetlegendtextareapblockquotethtdinputselectbuttonmargin0padding0': 1, 'fieldsetimgborder0': 1, 'none': 5, 'dlulolmenuliliststylenone': 1, 'blockquote': 1, 'qquotes': 1, 'blockquotebefore': 1, 'blockquoteafterqbefore': 1, 'qaftercontentcontentnone': 1, 'inputselecttextareabuttonverticalalignmiddle': 1, 'inputmscleardisplaynone': 1, 'buttonborder0': 1, 'nonebackgroundcolortransparentcursorpointer': 1, 'bodybackgroundfffdirectionltrwebkittextsizeadjustnone': 1, 'bodythtdinputselecttextareabuttonfontsize13pxlineheight15fontfamilyAppleSDGothicNeoRegularMalgun': 1, 'Gothic맑은': 1, '고딕dotum돋움sansserifcolor222letterspacing1px': 1, 'osmac': 144, 'bodyosmac': 1, 'thosmac': 1, 'tdosmac': 1, 'inputosmac': 1, 'selectosmac': 1, 'textareaosmac': 1, 'buttonletterspacing0': 1, 'acolor222textdecorationnone': 1, 'ahovercolor118efftextdecorationunderline': 1, 'aactivebackgroundcolortransparent': 1, 'addresscaptioncitecodedfnemvarfontstylenormalfontweightnormal': 1, 'irpmdisplayblockoverflowhiddenfontsize1pxlineheight0textindent9999px': 1, 'irwadisplayblockoverflowhiddenpositionrelativewidth100height100zindex1': 1, 'screenoutoverflowhiddenpositionabsolutewidth0height0lineheight0textindent9999px': 1, 'showdisplayblock': 1, 'hidedisplaynone': 1, 'dindexpositionrelativewidth100': 1, 'dindex': 7, 'shortcutgpositionabsolutetop34pxleft0height33pxpadding0': 1, '20px': 10, '0': 171, '26pxborderbottom1px': 1, 'solid': 53, '3f4243fontsize11pxlineheight14pxbackgroundcolor26292acolorfffletterspacing1pxtextaligncenter': 1, 'shortcutgactive': 2, 'shortcutgfocusoverflowhiddentop0textdecorationnonezindex101': 1, 'shortcutghovercolorfff': 1, 'shortcutg': 2, 'innershortcutdisplayinlineblockpaddingright10pxmargintop8pxbackgroundposition100': 1, '220pxverticalaligntop': 1, 'innershortcutmargintop11pxbackgroundposition100': 1, '223px': 1, 'icopctopoverflowhiddenbackgroundurlt1daumcdnnetdaumtopdecoimagestop2017icopctop170828png': 1, 'norepeat': 19, 'icovertoverflowhiddenbackgroundurlt1daumcdnnetdaumtopdecoimagestop2017icopctopvert170724png': 1, 'txtpctopoverflowhiddenbackgroundurlt1daumcdnnetdaumtopdecoimagestop2017txtpctop170915png': 1, '0letterspacing1pxwhitespacenowrap': 1, 'bgpctopbackgroundurlt1daumcdnnetdaumtopdecoimagestop2017bgpctop170328png': 1, 'numpctopoverflowhiddenbackgroundurlt1daumcdnnetdaumtopdecoimagestop2017numpctop170405png': 1, 'imgthumbdisplayblockverticalaligntop': 1, 'framegpositionabsolutetop0left0border1px': 1, '000opacity008filteralphaopacity8': 1, 'thumbgdisplayblockpositionrelative': 1, 'daumWrappositionrelativeminwidth1080px': 1, 'daumWraptransformtranslate3d0px': 1, '0px': 3, 'headdaumpositionrelativezindex100': 1, 'contmainpositionrelativewidth990pxmargin15px': 1, 'auto': 7, 'conttopicoverflowhiddenpositionrelativezindex0width100bordertop1px': 1, 'ecececbackgroundcolorfbfbfcbackgroundposition50': 1, '100backgroundrepeatnorepeat': 1, 'featuretmpdisplayinlineblockverticalaligntop': 1, 'wrapmainpaddingbottom40pxclearbothzoom1': 1, 'wrapmainafterdisplayblockvisibilityhiddenheight0fontsize0clearbothcontent': 1, 'cmaintmpfloatleftwidth655pxmarginright35px': 1, 'wingtmpfloatleftwidth300px': 1, 'footdaumbordertop1px': 1, '888': 5, 'footdaum': 26, 'innerfootoverflowhiddenpositionrelativewidth990pxmargin0': 1, 'autopadding37px': 1, '78px': 1, 'linklogofloatleft': 1, 'infonoticeoverflowhiddenpadding0': 1, '250px': 3, '30px': 19, 'titnoticefloatleftfontsize13px': 1, 'linknoticedisplayblockpaddingright9pxbackgroundposition100': 1, '169px': 1, 'linknoticehovercolor222': 1, 'listnoticeoverflowhiddenwidth542pxheight19pxpaddingleft9px': 1, 'listnotice': 2, 'linkinfodisplayblockoverflowhiddentextoverflowellipsiswhitespacenowrap': 1, 'linkinfohovercolor222': 1, 'searchfootpositionabsolutetop32pxright0': 1, 'boxsearchpositionrelativezindex1width209pxheight28pxborder1px': 1, 'c8c8c8': 1, 'searchonbordercolor0089ff': 1, 'tfkeywordfloatleftwidth164pxmargin5px': 1, '9pxborder1px': 1, 'transparentlineheight19pxoutline0': 1, 'btnsearchfloatrightwidth32pxheight28pxlineheight28pxbackgroundposition0': 1, '230pxbackgroundcolortransparent': 1, 'linksvcallpositionabsolutetop81pxright0paddingright10pxfontweightboldcolor888backgroundposition100': 1, '194px': 1, 'infopolicypadding23px': 1, 'infopolicy': 2, 'linkpolicyfontsize12pxcolor888': 1, 'txtdotpadding0': 1, '2pxfontsize12pxcolor888': 1, 'txtcopyrightdisplayblockpaddingtop6pxfontsize11pxcolor888': 1, 'txtcopyright': 1, 'linkkakaocolor888': 1, 'infonoticepadding3px': 1, '31px': 1, 'linknoticepaddingright12pxbackgroundpositiony172px': 1, 'tfkeywordmargintop4px': 1, 'linksvcalltop83pxbackgroundpositiony196px': 1, 'infopolicypaddingtop24px': 1, 'txtcopyrightpaddingtop5px': 1, 'dheadborderbottom1px': 1, 'ececec': 8, 'dhead': 1, 'innerheadpositionrelativezindex1width1080pxheight150pxmargin0': 1, 'titdaumoverflowhiddenfloatleftwidth180pxheight150pxtextaligncenter': 1, 'linkdaumoverflowhiddendisplayblockmargin28px': 1, 'linklaunchpositionabsolutetop6pxleft45pxpaddingright8pxfontsize11pxcolor888backgroundposition100': 1, '18px': 3, 'linklaunchtop9pxbackgroundposition100': 1, '21px': 1, 'wrapsearchfloatleftpositionrelativemargintop50px': 1, 'wrapsearch': 1, 'dschbackgroundcolorfff': 1, 'headdaum': 15, 'boxsearchpositionrelativeheight44pxmargin1px': 1, '1px': 5, '0border1px': 2, '0089ffborderradius1px': 1, 'boxsearch': 2, 'innersearchpositionrelativezindex1height44pxpadding0': 1, '60px': 8, '14px': 5, 'boxsearchbefore': 1, 'innersearchbefore': 1, 'boxsearchafterpositionabsoluteleft0right100height1pxcontentbackgroundcolor0089ff': 1, 'boxsearchbeforetop1px': 1, 'boxsearchafterbottom1px': 1, 'boxsearchhoverbefore': 1, 'boxsearchhoverafterright0transitionpropertyrighttransitionduration08sbackgroundlineargradientto': 1, 'right': 1, '86aaff': 1, '70bc4c': 1, 'ffbe00': 1, 'f46e85': 1, 'boxsearchhover': 1, 'innersearchbeforetop1pxbottom1pxleftautoright1pxwidth1pxheight46pxbackgroundcolorf46e85transitionpropertyheighttransitiondelay08s': 1, 'tfkeywordfloatleftwidth442pxmargintop7pxborder1px': 1, 'transparentfontsize18pxlineheight24pxbackgroundcolortransparentoutline0imemodeactivewebkitappearancenone': 1, 'btnsearchpositionabsolutetop0right0width49pxheight42pxmargin1pxlineheight44pxbackgroundposition40px': 1, '231pxbackgroundcolortransparent': 1, 'slidefavorschoverflowhiddenwidth480pxheight28px': 1, 'listfavorschoverflowhiddenpaddingtop7px': 1, 'listfavorsch': 3, 'lifloatleftpaddingright10px': 1, 'linkfavorschdisplayblockfontsize12pxcolor555': 1, 'pagepctopzindex1right1pxbottom3px': 1, 'headbnrpositionabsolutetop33pxright45px': 1, 'headbnr': 1, 'linkheadbnrdisplayblock': 1, 'boxsearchmargintop0': 1, 'tfkeywordmargintop11px': 1, 'listfavorschpaddingtop10px': 1, 'lipaddingright14px': 1, 'daumSuggestWrappositionrelativemarginright90pxclearboth': 1, 'suggestBoxpositionabsolutetop45pxleft0zindex9999width520pxpadding0backgroundnone': 1, 'baseBoxbordertop1px': 1, 'dcdcdcfontsize12pxlineheight17pxfontfamily굴림gulimsansserifbackgroundcolorfff': 1, 'baseBoxfontfamilyApple': 1, 'SD': 6, 'Gothic': 6, 'Neosansserif': 6, 'suggestBox': 96, 'listpadding7px': 1, '13pxborderleft1px': 1, 'dcdcdcborderright1px': 2, 'dcdcdccolor333backgroundcolorfff': 1, 'suggestBoxreverseType': 2, 'listpadding3px': 1, '7pxcolor333': 1, 'baseBox': 4, 'lioverflowhiddenheight26pxpadding0': 1, '16pxlineheight26pxtextalignleftcursorpointer': 1, 'li': 8, 'itemdisplayblockheight100': 1, 'itemhovertextdecorationnone': 1, 'list': 1, 'onbackgroundcolorf6f6f6': 1, 'strongfontweightnormalcolor0089ff': 1, 'lineoverflowhiddenheight1pxmargin7px': 1, '6pxpadding0fontsize1pxlineheight1pxbackgroundcolore5e5e5': 1, 'guidepadding15px': 1, '10pxcolor555': 1, 'footerpositionrelativeheight20pxpadding8px': 1, '12px': 7, '4px': 11, '7pxborder1px': 1, 'dcdcdcbordertop1px': 1, 'ecececfontsize11pxbackgroundcolorfbfbfbletterspacing1pxclearboth': 1, 'footerbordertopcolordcdcdcborderbottomcolorededed': 1, 'footer': 7, 'flfloatleft': 1, 'frfloatright': 1, 'btnclosepaddingleft12pxbackgroundposition0': 1, '939px': 1, 'bardisplaynonepadding0': 1, '2pxcolorddd': 1, 'fl': 1, 'barpadding0': 1, '2px': 11, 'offGuidedisplaynonepositionabsoluteright0bottom19pxwidth211pxheight27pxbackgroundurlsearch1daumcdnnetsearchstaticscommonpisuggestservicegif': 1, 'norepeattextindent999em': 1, 'offSuggestdisplaynone': 1, 'listpadding9px': 1, '11px': 3, 'lipadding0': 1, '17px': 2, 'acolor777': 1, 'answerborderleft1px': 1, 'dcdcdc': 1, 'answer': 1, 'spancursorpointer': 1, 'afontsize14pxcolor333fontfamily돋움dotumsansseriftextdecorationnone': 1, 'afontfamilyApple': 1, 'linedisplayblockoverflowhiddenclearboth': 1, 'blineborderbottom1px': 1, 'ededed': 1, 'suggestexactdisplayblockoverflowhiddenheight40pxpadding12px': 1, 'suggestexacthovertextdecorationnone': 1, 'eonbackgroundcolorf8f8f8textdecorationnone': 1, 'suggestexact': 56, 'txtexactoverflowhiddenfloatleftheight44pxmargintop0backgroundposition0': 1, 'txtunitfontsize14pxfontfamilyarialsansserif': 1, 'titmarginleft1pxfontweightnormalfontsize12pxlineheight18pxfontfamily굴림gulimsansserifcolor333': 1, 'contdisplayblock': 1, 'txtcontmarginright4pxfontweightboldfontsize14pxlineheight16pxfontfamily돋움dotumsansserifcolor333': 1, 'txtnum1fontsize18pxlineheight20pxfontfamilytahomasansserifcolor333': 1, 'txtnum2marginleft3pxfontsize12pxlineheight14pxfontfamily굴림gulimsansserifcolor333': 1, 'txtnum3fontsize20pxlineheight23pxfontfamilyarialsansserifcolor333': 1, 'txtnum4marginleft3pxfontsize12pxlineheight14pxfontfamily굴림gulimsansserifcolor333': 1, 'txtexact': 5, 'icosuggest2backgroundurlsearch1daumcdnnetsearchstaticscommonpiicoicosuggest20110721gif': 1, 'icocelsiusbackgroundnone': 1, 'icoarrowuppaddingleft11pxbackgroundposition0': 1, '58px': 1, 'icoarrowdownpaddingleft11pxbackgroundposition0': 1, '98px': 1, 'icoarrowequalpaddingleft11pxbackgroundposition0': 1, '75px': 1, 'txtbluecolor007aff': 1, 'txtblue2color007aff': 1, 'txtredcolore52d38': 1, 'txtred2colore52d38': 1, 'txttimefloatrightmargin25px': 1, '16px': 4, '0fontsize11pxfontfamily돋움dotumsansserifcolora1a1a1': 1, 'icocelsiuswidth12pxheight13pxfontfamilyarialsansserifbackgroundpositionright': 1, '5px': 6, 'barfontsize14pxcolordedede': 1, 'wraptodayoverflowhiddenheight21pxpadding4px': 1, '10px': 2, '9pxlineheight21px': 1, 'wraptoday': 2, 'contfontsize14pxcolor333textdecorationnone': 1, 'contimportfontweightnormalcolorea570a': 1, 'titfontfamilyApple': 1, 'txtnum2fontfamilyApple': 1, 'txtnum4fontfamilyApple': 1, 'txttimefontfamilyApple': 1, 'icolottofloatleftwidth28pxheight28pxmargin6px': 1, '0borderradius20pxtextaligncenter': 1, 'icolotto': 1, 'txtnumdisplayinlineblockmargintop7pxfontsize14pxlineheight1fontfamilyarialsansserifcolorfffverticalaligntop': 1, 'num1backgroundcolorf6a800': 1, 'num10backgroundcolor4155cb': 1, 'num20backgroundcolorf64d61': 1, 'num30backgroundcolor585d6e': 1, 'num40backgroundcolorf6a800': 1, 'pluswidth8pxheight8pxmargin16px': 1, '8px': 10, '4pxbackgroundurlsearch1daumcdnnetsearchstaticscommonpiicoicosuggest20110721gif': 1, '40pxtextindent9999pxopacity05': 1, 'icosuggestpaddingleft59pxcolor555backgroundurlsearch1daumcdnnetsearchstaticscommonpiweathericoweathermpng': 1, 'icosuggest': 1, 'cont': 1, 'screenoutpositionstaticfontsize14pxfontfamilyarialsansseriftextindent0': 1, 'txtexactoverflowhiddenfloatleftheight44pxmargintop0': 1, 'icow00backgroundposition0': 1, '1620px': 1, 'icow01backgroundposition0': 2, 'night': 16, 'icow02backgroundposition0': 2, '120px': 5, '180px': 4, 'icow03backgroundposition0': 2, '240px': 7, '300px': 10, 'icow04backgroundposition0': 1, '360px': 2, 'icow05backgroundposition0': 2, '420px': 1, '480px': 2, 'icow06backgroundposition0': 2, '540px': 1, '600px': 1, 'icow07backgroundposition0': 1, '660px': 1, 'icow08backgroundposition0': 1, '720px': 1, 'icow09backgroundposition0': 1, '780px': 1, 'icow10backgroundposition0': 2, '840px': 1, '900px': 1, 'icow11backgroundposition0': 1, '960px': 1, 'icow12backgroundposition0': 1, '1020px': 1, 'icow13backgroundposition0': 2, '1080px': 1, '1140px': 1, 'icow14backgroundposition0': 1, '1200px': 1, 'icow15backgroundposition0': 1, '1260px': 1, 'icow16backgroundposition0': 2, '1320px': 1, '1380px': 1, 'icow17backgroundposition0': 1, '1440px': 1, 'icow18backgroundposition0': 1, '1500px': 1, 'icow19backgroundposition0': 1, '1560px': 1, 'daumSuggestWrapdisplaynone': 1, 'dserviceborderbottom1px': 1, 'dservice': 1, 'innerservicepositionrelativewidth990pxheight45pxmargin0': 1, 'menuservicefloatleftpositionrelativewidth660px': 1, 'menuservice': 1, 'linkmoreoverflowhiddenfloatleftwidth60pxheight25pxpadding10px': 1, '9pxlineheight20pxbackgroundposition0': 1, '8pxbackgroundcolortransparenttextaligncenter': 1, 'menuon': 2, 'linkmorebackgroundposition60px': 1, 'listmainsvcfloatleft': 1, 'listmainsvc': 16, 'lifloatleftheight45px': 1, 'txtpctopdisplayblockheight25pxpadding10px': 1, '0fontweightboldfontsize13pxlineheight25pxbackgroundcolortransparenttextaligncenter': 1, 'linkcafewidth30pxbackgroundposition0': 1, 'linkmailwidth36pxbackgroundposition30px': 1, 'linknewswidth37pxbackgroundposition66px': 1, 'linkmapwidth36pxbackgroundposition103px': 1, 'linkstockwidth37pxbackgroundposition139px': 1, 'linkshoppingwidth36pxbackgroundposition176px': 1, 'linkkakaotvwidth64pxbackgroundposition212px': 1, 'linkwebtoonwidth37pxbackgroundposition276px': 1, 'linkblogwidth48pxbackgroundposition313px': 1, 'linkbrunchwidth47pxbackgroundposition361px': 1, 'linkdicwidth36pxbackgroundposition408px': 1, 'linkgamewidth37pxbackgroundposition444px': 1, 'linkstarplaywidth59pxbackgroundposition481px': 1, 'linktogetherwidth59pxbackgroundposition540px': 1, 'servicelayerdisplaynonepositionabsolutetop45pxleft0width653pxborder1px': 1, '888backgroundcolorfff': 3, 'servicelayerdisplayblock': 1, 'servicelayer': 18, 'layerbodyoverflowhiddenbackgroundurlt1daumcdnnetdaumtopdecoimagestop2017bglinegif': 1, 'repeaty': 1, 'sortservicefloatleftwidth94pxpadding0': 1, '15px': 5, 'sortservicefstpaddingleft14px': 1, 'sortservice': 9, 'dtmargin11px': 1, '4pxfontweightboldfontsize12px': 1, 'ddclearbothfontsize12pxlineheight22px': 1, 'titsplitfloatleftpaddingright9pxbackgroundposition100': 1, 'titsplit2margintop22px': 1, 'linksvccolor555': 1, 'linksvchovercolor118eff': 1, 'iconewdisplayinlineblockwidth11pxheight11pxmargin2px': 1, '2pxfontsize0lineheight0backgroundposition160px': 1, '80pxverticalalignmiddletextindent9999px': 1, 'layerfootoverflowhiddenheight32pxbordertop1px': 1, 'ecececbackgroundcolorfbfbfb': 5, 'layerfoot': 4, 'linktotalfloatleftpaddingright8pxmarginleft13pxfontsize11pxlineheight29pxcolor555backgroundposition100': 1, 'btnclosefloatrightpadding0': 1, '13pxmargin2pxfontsize11pxlineheight24pxcolor888': 1, 'sortservicepaddingbottom12px': 1, 'dtmargin14px': 1, 'titsplitbackgroundposition100': 1, '3px': 3, 'linktotalpaddingright10pxmarginleft14pxlineheight32pxbackgroundposition100': 1, 'btnclosepadding0': 1, '12pxlineheight28px': 1, 'todaybasefloatrightpositionrelativeheight45px': 1, 'todaybase': 5, 'compbasedisplayinlineblockverticalaligntop': 1, 'imgweatherbackgroundimageurlt1daumcdnnetdaumtopdecoimagestop2017imgweather170628pngbackgroundrepeatnorepeatfontsize0lineheight0textindent9999px': 1, 'txttemperfloatleftfontsize14pxfontfamilytahomaarialsansserifletterspacing0': 1, 'txttemperfontfamilyhelveticaarialsansserif': 1, 'infotodayfloatleftfontsize13px': 1, 'infotoday': 30, 'datetodayfloatleftheight24pxpaddingtop10pxlineheight20pxletterspacing0': 1, 'txtpartfloatleftmarginright5pxfontweightboldlineheight24px': 1, 'linkweatherfloatleftheight25pxmarginleft16pxpadding8px': 1, '12pxlineheight24pxtextalignright': 1, 'linkweatherhovercolor222textdecorationnone': 2, 'listweatherfloatleftoverflowhiddenheight25px': 1, 'listweather': 1, 'lioverflowhiddenheight25px': 1, 'datetodaylineheight26px': 1, 'txtpartlineheight30px': 1, 'linkweatherlineheight26px': 1, 'linkweather': 4, 'icomoremargintop10px': 1, 'imgweatherfloatleftwidth26pxheight26pxmargin1px': 1, '0verticalaligntop': 2, 'icowm01backgroundposition0': 2, 'icowm01backgroundposition30px': 1, 'icowm02backgroundposition60px': 1, 'icowm02backgroundposition90px': 1, 'icowm03backgroundposition0': 2, '270px': 4, 'icowm03backgroundposition30px': 1, 'icowm04backgroundposition60px': 1, 'icowm07backgroundposition90px': 1, 'icowm09backgroundposition0': 2, 'icowm10backgroundposition30px': 1, 'icowm10backgroundposition60px': 1, 'icowm11backgroundposition90px': 1, 'icowm14backgroundposition0': 2, '330px': 4, 'icowm17backgroundposition30px': 1, 'icowm18backgroundposition60px': 1, 'icowm19backgroundposition90px': 1, 'txttempermargintop1px': 2, 'icodegreefloatleftwidth17pxheight15pxmargin7px': 1, '0fontsize12pxlineheight17pxbackgroundposition210px': 1, '270pxbackgroundcolortransparenttextaligncentertextindent0': 1, 'icomorewidth13pxheight9pxmargin9px': 1, '1pxbackgroundposition138px': 1, '292px': 2, 'todayon': 2, 'icomorebackgroundposition138px': 1, '304px': 1, 'todaylayerdisplaynonepositionabsolutetop45pxright0width298pxborder1px': 1, 'todaylayer': 67, 'icowmbackgroundimageurlt1daumcdnnetdaumtopdecoimagestop2017icowmpngbackgroundrepeatnorepeatfontsize0lineheight0textindent9999px': 1, 'layerbodyoverflowhidden': 1, 'layerbodyafterpositionabsolutetop0right0width42pxheight42pxcontent': 1, 'weatherpartpositionrelativeheight135px': 1, 'btnlocatepositionabsolutetop17pxleft18pxwidth21pxheight21pxfontsize0lineheight0backgroundposition176px': 1, '246pxtextindent9999px': 1, 'btnlocateonbackgroundposition176px': 1, '286px': 1, 'linkweatherdisplayblockoverflowhiddenheight135px': 1, 'txtplacedisplayblockheight20pxmargin17px': 1, '22pxfontweightboldfontsize13pxlineheight19px': 1, 'txtplace': 1, 'txtlocaldisplayinlineblock': 1, 'icowmfloatleftwidth90pxheight90pxmarginleft22px': 1, 'icowm01backgroundposition100px': 1, 'icowm02backgroundposition200px': 1, 'icowm02backgroundposition300px': 1, '100px': 8, 'icowm03backgroundposition100px': 1, 'icowm04backgroundposition200px': 1, 'icowm07backgroundposition300px': 1, '200px': 13, 'icowm10backgroundposition100px': 1, 'icowm10backgroundposition200px': 1, 'icowm11backgroundposition300px': 1, 'icowm17backgroundposition100px': 1, 'icowm18backgroundposition200px': 1, 'icowm19backgroundposition300px': 1, 'infotemperdisplayblockoverflowhiddenheight32pxmargin19px': 1, '130pxfontfamilytahomaarialsansserif': 1, 'infotemper': 13, 'imgweatherfloatleftwidth22pxheight32pxmargin0': 1, 'num0backgroundposition260px': 1, 'num1backgroundposition260px': 1, '40px': 8, 'num2backgroundposition260px': 1, '80px': 9, 'num3backgroundposition260px': 1, 'num4backgroundposition260px': 1, '160px': 4, 'num5backgroundposition260px': 1, 'num6backgroundposition260px': 1, 'num7backgroundposition260px': 1, '280px': 1, 'num8backgroundposition260px': 1, '320px': 1, 'num9backgroundposition260px': 1, 'icominuswidth22pxheight32pxbackgroundposition260px': 1, '400px': 2, 'icodegreewidth39pxheight32pxbackgroundposition210px': 1, 'statedescdisplayblockoverflowhiddenmargin7px': 1, '130pxlineheight16px': 1, 'statedesc': 4, 'icodegreefloatleftwidth14pxheight12pxmargin3px': 1, '0backgroundposition240px': 1, '208px': 1, 'txtdescfloatleftmarginright2px': 1, 'layerfootoverflowhiddenbordertop1px': 1, 'linkstatefloatleftoverflowhiddenwidth50height39pxcolor101010textdecorationnone': 1, 'infowmoverflowhiddenheight22pxpaddingtop8pxlineheight21px': 1, 'infowm': 5, 'dtfloatleftpaddingright9px': 1, 'ddfloatleft': 1, 'imgweatherdisplayinlineblockverticalaligntop': 1, 'infodustpaddingleft18px': 1, 'icodustwidth20pxheight20pxmargintop3pxmarginright6pxbackgroundposition140px': 1, 'icoairwidth21pxheight21pxmargin1px': 1, '7px': 7, '2pxbackgroundposition140px': 1, '264px': 1, 'stategoodcolor0078ff': 1, 'statenormalcolor27aa1d': 1, 'statebadcolorfecc3d': 1, 'stateworstcolore30000': 1, 'btnclosepositionabsolutetop18pxright18pxwidth16pxheight16pxbackgroundposition0': 2, 'txtplacemargintop20pxlineheight18px': 1, 'infotempermargintop15px': 1, 'statedescmargintop10px': 1, 'icodegreemargintop1px': 1, 'infowmpaddingtop11px': 1, 'icodustmargintop0': 1, 'icoairmargintop2px': 1, 'todaylayerdisplayblock': 1, 'adverttmpfloatleftpositionrelativewidth655pxheight120pxmarginright35px': 1, 'adverttmp': 1, 'bglinepositionabsolutetop0left0zindex1width653pxheight118pxborder1px': 1, 'advertstationdisplayinlineblockpositionrelativewidth300pxheight150pxmargintop15pxfontsize0lineheight0verticalaligntop': 1, 'advertstation': 1, 'bglinepositionabsolutetop0left0zindex1width298pxheight148pxborder1px': 1, 'boxshoppingdisplayinlineblockpositionrelativewidth300pxheight1177pxmargintop15pxverticalaligntop': 1, 'boxshopping': 2, 'bgline1positionabsolutetop0left0zindex1width298pxheight775pxborder1px': 1, 'bgline2positionabsolutetop792pxleft0zindex1width298pxheight383pxborder1px': 1, 'advertsvcbnrmargintop15px': 1, 'advertsvcbnr': 2, 'linkbnrdisplayblockpositionrelativeheight60px': 1, 'framegwidth298pxheight58px': 1, 'advertbnrmargintop15px': 1, 'advertbnr': 2, 'linkbnrdisplayblockoverflowhiddenpositionrelativeheight143px': 1, 'framegwidth298pxheight141px': 1, 'wraptiercontpositionrelativezindex99width990pxmargin0': 1, 'logintmpfloatrightpositionrelativezindex0width300pxheight120pxletterspacing1px': 1, 'loginmyzindex10backgroundurlt1daumcdnnetdaumtopdecoimagestop2017bgpctop170328png': 1, 'loginmy': 22, 'wrapmywidth285pxheight45pxpadding15px': 1, 'infomyfloatleftpadding1px': 1, 'relmyfloatrightpaddingright15px': 1, 'nameuserfloatleftmarginright4pxfontweightbold': 1, 'linkmyinfofloatleftfontsize11pxmargin2px': 1, '0lineheight14pxcolor555textdecorationunderline': 1, 'linkssopositionabsolutetop41pxleft15pxwidth68pxheight22pxfontsize11pxlineheight22pxbackgroundposition100px': 1, '235pxwhitespacenowrap': 2, 'linkssoingbackgroundposition100px': 1, '205px': 1, 'linkssohelppositionabsolutetop41pxleft85pxwidth6pxheight22pxpadding0': 1, '6pxfontsize12pxlineheight22pxbackgroundposition180px': 1, 'layerssopositionabsolutetop77pxleft0zindex11width298pxheight82pxborder1px': 1, '118effbackgroundcolorfff': 1, 'layersso': 4, 'boxhelpdisplaytablewidth100height100': 1, 'txthelpdisplaytablecellpadding0': 1, '2pxfontsize12pxlineheight16pxcolor555verticalalignmiddle': 1, 'btnclosepositionabsolutetop5pxright5pxwidth21pxheight21pxpadding0': 1, '6pxbackgroundposition210px': 1, '235px': 1, 'linkempathyfloatleftmargin5px': 1, '0fontsize11pxlineheight14pxcolor5b6473': 1, 'btnlogoutfloatleftwidth56pxheight24pxfontsize11pxlineheight24pxbackgroundposition180px': 1, '30pxbackgroundcolortransparent': 1, 'listbasisoverflowhiddenpositionabsolutetop43pxright9pxheight30pxletterspacing012em': 1, 'listbasis': 6, 'lifloatleftpaddingright8pxlineheight15px': 1, 'linkbasisfloatleftfontsize12pxcolor555': 1, 'numbasismarginleft3pxcolor118eff': 1, 'nummsgwidth30px': 1, 'linknumfontweightboldcolor118eff': 1, 'mymileage': 1, 'linkbasismarginright8px': 1, 'wrapmysvcpositionrelativezindex10width300px': 1, 'mysvclistpositionrelativewidth300pxheight43px': 1, 'listmysvcdisplayinlineblockpositionrelativewidth300pxheight43pxverticalaligntopletterspacing1px': 1, 'listmysvc': 13, 'lipositionrelativefloatleftwidth100pxheight43px': 1, 'linkmysvcdisplayblockoverflowhiddenheight31pxpaddingtop12pxfontsize12pxlineheight18pxtextaligncentercolor555': 1, 'linkmysvchovertextdecorationnone': 1, 'cafeg': 5, 'linkmysvcheight30pxpaddingtop13pxlineheight16px': 1, 'txtmysvcdisplayinlineblockheight26pxcolor555verticalaligntop': 1, 'txtmysvcpaddingleft24pxbackgroundposition0': 1, 'stockg': 1, 'txtmysvcpaddingleft27pxbackgroundposition0': 1, '109px': 1, 'blogg': 1, 'txtmysvcpaddingleft29pxbackgroundposition0': 1, '139px': 1, 'iconewdisplaynonewidth11pxheight11pxmargin5px': 1, '4pxbackgroundposition160px': 1, '80pxtextindent9999pxverticalaligntop': 1, 'newg': 1, 'iconewdisplayinlineblock': 1, 'iconewmargintop4px': 2, 'mycafeonbackgroundurlt1daumcdnnetdaumtopdecoimagestop2017bgpctop170328png': 1, '310px': 15, 'mystockonbackgroundurlt1daumcdnnetdaumtopdecoimagestop2017bgpctop170328png': 1, '50px': 2, 'myblogonbackgroundurlt1daumcdnnetdaumtopdecoimagestop2017bgpctop170328png': 1, 'layermycontpositionabsolutetop120pxleft0width300pxheight353pxbackgroundposition0': 1, '130px': 11, 'layermycont': 2, 'btnclosepositionabsolutetop320pxright0width46pxheight32pxpadding3px': 1, '4pxfontsize11pxlineheight18pxcolor888': 1, 'txthelppaddingtop2pxpaddingbottom0': 1, 'logintmpletterspacing0': 1, 'infomypaddingtop4px': 1, 'nameusermarginright7px': 1, 'linkprivacymargintop0': 1, 'listbasistop45pxright6pxletterspacing0': 1, 'lipaddingright9px': 1, 'linkmysvclineheight21px': 1, 'linkmysvclineheight20px': 1, 'iconewmargintop3px': 1, 'btnclosepaddingtop5px': 1, 'panelblocpositionrelativepaddingtop61px': 1, 'tittabcontpositionabsolutetop15pxfontsize16px': 1, 'tittabcont': 1, 'linktitdisplayblockheight36pxlineheight36pxbackgroundcolortransparenttextaligncenter': 1, 'wraptabcontdisplaynonewidth655px': 1, 'icoviewoverflowhiddenpositionabsoluteright8pxbottom8pxwidth23pxheight23pxbackgroundposition40px': 1, '0textindent9999pxcursorpointer': 3, 'icovideooverflowhiddenpositionabsoluteright8pxbottom8pxwidth23pxheight23pxbackgroundposition70px': 1, 'icoliveoverflowhiddenpositionabsoluteright8pxbottom8pxwidth23pxheight23pxbackgroundposition130px': 1, 'colorg1colore30000': 1, 'colorg2color118eff': 1, 'icolabeloverflowhiddenpositionabsolutetop15pxleft15pxheight22pxpadding0': 1, '8pxfontsize11pxlineheight19pxcolorfffbackgroundcolor118eff': 1, 'icolabel2overflowhiddenpositionabsolutetop0left0height20pxpadding0': 1, '7pxfontsize11pxlineheight17pxcolorfffbackgroundcolorrgba00006filterprogidDXImageTransformMicrosoftgradientstartColorstr99000000endColorstr99000000GradientType0': 1, 'icolabel3overflowhiddenpositionabsolutetop15pxleft15pxheight22pxpadding0': 1, '8pxfontsize11pxlineheight19pxcolorfffbackgroundcolore8493d': 1, 'icolabelosmac': 1, 'icolabel3lineheight23px': 1, 'icolabel2lineheight21px': 1, 'taglivewidth30pxheight15pxbackgroundposition120px': 1, '70px': 3, 'tagnewwidth31pxheight15pxbackgroundposition120px': 1, '90px': 3, 'tageventwidth40pxheight15pxbackgroundposition120px': 1, '110px': 4, 'tagissuewidth37pxheight15pxbackgroundposition120px': 1, 'pagepctoppositionabsolutewidthautoheight16px': 1, 'pagepctop': 13, 'btnpagefloatleftwidth16pxheight16pxlineheight16pxbackgroundcolortransparentbackgroundposition210px': 1, 'btnnextwidth15pxbackgroundposition226px': 2, 'infopagefloatleftpadding2px': 1, '0fontsize12pxlineheight16pxcolor555fontfamilytahomaarialsansserif': 1, 'infopage': 1, 'txtslashpadding0': 1, 'infopagelineheight16pxfontfamilyhelveticaarialsansserif': 1, 'pagebtypetop20pxright0height26px': 1, 'pagebtype': 4, 'btnpagewidth26pxheight26pxlineheight26pxbackgroundposition110px': 1, '170pxtextindent10px': 1, 'btnnextwidth25pxbackgroundposition136px': 1, '170px': 4, 'infopagepaddingtop1pxpaddingright8pxfontsize14pxlineheight22px': 1, 'infopagelineheight24px': 1, 'pagetabcontpositionabsolutezindex1top16pxleft30pxcursorpointer': 1, 'pagetabcont': 2, 'btnpageoverflowhiddenfloatleftwidth7pxheight7pxmargin9px': 1, '0fontsize10pxlineheight7pxbackgroundposition100px': 1, '170pxbackgroundcolortransparent': 1, 'onpositionrelativebackgroundposition100px': 1, '177px': 1, 'listthumboverflowhidden': 1, 'listthumb': 12, 'lifloatleftwidth154pxheight146pxmarginleft13px': 1, 'fstmarginleft0': 2, 'linkitemdisplayblock': 1, 'thumbgwidth154pxheight94px': 2, 'framegwidth152pxheight92px': 3, 'contitempadding4px': 2, 'tititemdisplayblockoverflowhiddenmaxheight36pxpaddingright12pxfontweightnormallineheight18pxwordbreakkeepallwordwrapbreakword': 2, 'contitempaddingtop6px': 3, 'tititempaddingright14px': 3, 'listtxtfloatleft': 1, 'listtxt': 13, 'lioverflowhiddenheight20pxpadding4px': 1, '2pxwhitespacenowraptextoverflowellipsis': 1, 'icopctopdisplayinlineblockmargin3px': 1, '0textindent9999pxverticalaligntop': 3, 'splittxtpaddingleft10pxmarginleft10pxcolor888backgroundurlt1daumcdnnetdaumtopdecoimagestop2017icopctopvert170724png': 1, '46px': 1, 'splittxthovercolor118eff': 1, 'partmidpaddingtop18pxlineheight16px': 1, 'splitpartdisplayinlineblockoverflowhiddenverticalaligntop': 1, 'splitpart': 3, 'linktxtmarginright3px': 1, 'splitfstfloatleftoverflowhiddenmaxwidth222pxtextoverflowellipsis': 1, 'lilineheight20px': 1, 'splittxtbackgroundposition0': 1, '49px': 1, 'partmidlineheight22px': 1, 'splitpartletterspacing003em': 1, 'linktxtmarginright7px': 1, 'liststxtmargintop7px': 1, 'liststxt': 2, 'lioverflowhiddenpaddingbottom4pxlineheight19pxwhitespacenowraptextoverflowellipsis': 1, 'txtmarkfontsize12pxcolor888': 2, 'linksectordisplayblockpositionrelativezindex0width321pxheight131px': 1, 'linksector': 11, 'framegwidth319pxheight129px': 1, 'contitempositionabsoluteright0left0bottom0width100height100pxbackgroundurlt1daumcdnnetdaumtopdecoimagestop2017bgplate2png': 1, '100': 5, 'tititemoverflowhiddenpositionabsoluteleft0bottom13pxright0padding0': 1, '15pxfontweightnormalfontsize14pxlineheight20pxcolorfff': 1, 'icolabel': 1, 'icolabel2': 1, 'icolabel3': 1, 'icopctopzindex1': 1, 'tititembottom10px': 2, 'listranking': 16, 'liheight20pxpaddingbottom5px': 1, 'linkrankingdisplayblockoverflowhiddenlineheight18px': 1, 'txtrankingoverflowhiddenfloatleftwidth288pxwhitespacenowraptextoverflowellipsis': 1, 'linkrankinghover': 2, 'txtrankingtextdecorationunderline': 1, 'numpctopfloatleftwidth16pxheight16pxmargin3px': 2, 'num1backgroundposition0': 3, 'num2backgroundposition0': 3, 'num3backgroundposition0': 3, 'num4backgroundposition0': 2, 'num5backgroundposition0': 2, 'numpctopmargintop0': 3, 'lilineheight22px': 1, 'boxstoryoverflowhiddenborder1px': 1, 'ecececbackgroundcolorfbfbfc': 2, 'boxstory': 5, 'titsubjectoverflowhiddenmargintop7pxfontsize13px': 1, 'titsubject': 2, 'linktitfloatleftpaddingright9pxbackgroundposition100': 1, 'titsubjectmargintop10px': 1, 'linktitbackgroundposition100': 1, 'liststxtmargintop10px': 1, 'sectionmediapositionrelative': 1, 'sectionmedia': 4, 'pagebtypetop15px': 1, 'panelblocpadding57px': 1, '25px': 1, 'tittabconttop11pxleft0': 1, 'panelbloc': 50, 'titnewsleft5px': 1, 'titentertainleft55px': 1, 'titsportsleft94px': 1, 'titmovieleft147px': 1, 'titautoleft186px': 1, 'titrealestateleft240px': 1, 'titnews': 2, 'linktitwidth36pxbackgroundposition0': 2, 'titentertain': 2, 'linktitwidth36pxbackgroundposition36px': 1, 'titsports': 2, 'linktitwidth50pxbackgroundposition72px': 1, 'titmovie': 2, 'linktitwidth36pxbackgroundposition122px': 1, 'titauto': 2, 'linktitwidth51pxbackgroundposition158px': 1, 'titrealestate': 2, 'linktitwidth48pxbackgroundposition209px': 1, 'newson': 2, 'linktitbackgroundposition0': 3, '166px': 6, 'entertainon': 2, 'linktitbackgroundposition36px': 2, 'sportson': 2, 'linktitbackgroundposition72px': 1, 'movieon': 2, 'linktitbackgroundposition122px': 1, 'autoon': 2, 'linktitbackgroundposition158px': 1, 'realestateon': 2, 'linktitbackgroundposition209px': 1, 'wrapnews': 8, 'wrapentertain': 1, 'wrapsports': 1, 'wrapmovie': 1, 'wrapauto': 1, 'wraprealestatedisplayblock': 1, 'wraptabcontheight480px': 1, 'groupnewsdisplayinlineblockheight292pxverticalaligntop': 1, 'newsprimeheight438px': 1, 'newsprime': 2, 'listtxtwidth316pxpaddingleft4px': 1, 'tititemwordbreaknormal': 1, 'boxsectoroverflowhiddenfloatleftwidth321pxmarginright13px': 1, 'boxsector': 4, 'listthumbwidth334pxmarginleft13px': 1, 'linksectormarginbottom15px': 1, 'newsflowoverflowhiddenpositionrelativeheight40pxborder1px': 1, 'ecececlineheight35pxbackgroundcolorfbfbfb': 1, 'unithomefloatleftpaddingleft12px': 1, 'unithome': 7, 'tithomefloatleftmarginright10px': 1, 'tithome': 2, 'linkhomepaddingright7pxbackgroundposition100': 1, '6px': 3, 'listhomefloatleft': 1, 'listhome': 2, 'lifloatleftpadding0': 1, 'linkhomecolor555': 1, 'linkhomehovercolor118eff': 1, 'unitlivefloatleftpaddingleft25px': 1, 'unitlive': 3, 'icopctopfloatleftmargin12px': 1, '0textindent9999px': 2, 'linklivemarginright5pxcolor555': 1, 'linklivehovercolor118eff': 1, 'newsflow': 1, 'linkhashpadding0': 1, '7pxcolor118eff': 1, 'newsflowlineheight40px': 1, 'linkhomepaddingright9pxbackgroundposition100': 1, 'boxissuefloatleftpositionrelativemarginright13px': 1, 'boxissue': 8, 'linkissuedisplayblockoverflowhiddenpositionrelativewidth321pxheight277px': 1, 'covergpositionabsoluteleft0bottom0width100height132pxbackgroundurlt1daumcdnnetdaumtopdecoimagestop2017bgplate8png': 1, 'framegwidth319pxheight275px': 1, 'icolabelheight27pxfontsize14pxlineheight25pxbackgroundcolorrgba171422559': 1, 'contitemoverflowhiddenpositionabsoluteright0bottom14pxleft0': 1, 'contitem': 2, 'tititemdisplayblockoverflowhiddenmaxheight44pxpadding0': 1, '16pxfontweightnormalfontsize16pxlineheight22pxcolorfff': 1, 'icolabellineheight29px': 1, 'contitembottom10px': 1, 'specialissue': 7, 'titissueoverflowhiddenpositionabsolutetop25pxleft21pxmaxheight60pxpaddingright20pxfontsize22pxcolorfff': 1, 'contitembottom12px': 1, 'listitempadding0': 1, 'listitem': 4, 'lioverflowhiddenmargintop3pxfontsize14px': 1, 'fstfontsize16pxlineheight26px': 1, 'linkitemdisplayblockoverflowhiddencolorfffwhitespacenowraptextoverflowellipsis': 1, 'fstlineheight23px': 1, 'newsprimefloatleftwidth501pxheight438px': 1, 'newsflowclearboth': 1, 'boxsectorwidth154px': 1, 'listthumbwidthautomarginleft0': 1, 'lifloatnonemarginleft0': 1, 'linksectorwidth154pxheight277pxmarginbottom0': 1, 'framegwidth152pxheight275px': 1, 'rankingnewsoverflowhiddenpositionrelativeheight148pxpadding0': 1, '148px': 1, 'ranknewstitpositionabsolutetop3pxleft0width148px': 1, 'ranknewstit': 2, 'titrankingfloatleftlineheight17pxcolor118eff': 1, 'linktitcolor118eff': 1, 'helppartdisplayinlinefloatleftmargin3px': 1, 'helppart': 1, 'linkhelpdisplayblockwidth31pxheight15pxfontsize11pxbackgroundcolortransparentbackgroundposition0': 1, '265px': 1, 'helplayeroverflowhiddenpositionabsolutetop27pxleft0width126pxheight48pxborder1px': 1, '888backgroundcolorfbfbfb': 1, 'helplayer': 2, 'txthelppadding8px': 1, '13px': 7, '13pxfontsize11pxlineheight15pxcolor888': 1, 'btnclosepositionabsolutetop8pxright8pxwidth16pxheight16pxbackgroundposition0': 1, 'rankingnews': 2, 'listrankingmargintop3px': 1, 'tabrankingpositionabsolutetop30pxleft0width64px': 1, 'tabranking': 6, 'limarginbottom3px': 2, 'linktabdisplayinlineblockoverflowhiddenfontweightboldlineheight16pxcolor888': 1, 'on': 6, 'linktabcolor222textdecorationunderline': 1, 'icopctopfloatleftwidth6pxheight6pxmargin6px': 1, '0backgroundposition100px': 1, '190px': 1, 'contrankingdisplaynoneoverflowhidden': 1, 'contrankingondisplayblock': 1, 'helppartmargintop0': 1, 'helplayertop25px': 1, 'ranknewstittop6px': 1, 'listrankingmargintop5px': 1, 'tabrankingtop33px': 1, 'limarginbottom1px': 1, 'icopctopmargintop4px': 1, 'castsportspositionrelativewidth321pxmarginbottom15px': 1, 'castsports': 8, 'headcastheight35pxborder1px': 1, 'titcastmargin6px': 1, '11pxfontsize13px': 1, 'pagepctoptop11pxright14pxbottomauto': 1, 'btnpagewidth16pxheight16pxlineheight16pxbackgroundposition210px': 1, 'linkmorepositionabsolutetop9pxright13pxpaddingright7pxfontsize11pxcolor888backgroundposition100': 1, 'listrelayborder1px': 1, 'ecececbordertop0': 1, 'listrelay': 33, 'lioverflowhidden': 1, 'linkrelayhovercolor222textdecorationnone': 1, 'txtteamoverflowhiddenfontsize12pxlineheight26pxwhitespacenowraptextoverflowellipsis': 1, 'txttimefloatleftfontsize11pxfontfamilytahomaarialsansserifletterspacing0': 1, 'txtleaguefloatleftpaddingleft3pxfontsize11pxcolor888': 1, 'txtscore': 13, 'innerscoredisplayinlineblockverticalaligntop': 1, 'numpctopfloatleftwidth11pxheight16pxbackgroundcolortransparent': 1, 'num0backgroundposition60px': 1, 'num1backgroundposition60px': 1, 'num2backgroundposition60px': 1, 'num3backgroundposition60px': 1, 'num4backgroundposition60px': 1, 'num5backgroundposition60px': 1, 'num6backgroundposition60px': 1, 'num7backgroundposition60px': 1, '140px': 3, 'num8backgroundposition60px': 1, 'num9backgroundposition60px': 1, 'numnonebackgroundposition60px': 1, 'tagcastwidth56pxheight15pxfontsize11pxbackgroundcolortransparenttextaligncenter': 1, 'cast1backgroundposition0': 1, 'cast2backgroundposition0': 1, 'cast3backgroundposition0': 1, 'cast4backgroundposition0': 1, 'cast5backgroundposition0': 1, '150px': 5, 'cast6backgroundposition60px': 1, 'cast7backgroundposition60px': 1, 'cast8backgroundposition60px': 1, 'cast9backgroundposition60px': 1, 'titcastmargin9px': 1, 'linkmoretop11pxbackgroundposition100': 1, 'txttimefontfamilyhelveticaarialsansserif': 1, 'relaygeneralheight93px': 1, 'relaygeneral': 9, 'linkrelayoverflowhiddenfloatleftpositionrelativewidth147pxheight84pxpadding9px': 1, '11pxborderleft1px': 1, 'f5f5f5': 2, 'linkrelayfstwidth146pxpaddingleft12pxborderleft0': 1, 'eventteamoverflowhiddenpositionabsoluteleft11pxtop57pxright0height25px': 1, 'eventteamfstleft11pxtop30px': 1, 'eventteam': 6, 'imgthumbfloatleft': 1, 'txtteamfloatleftwidth69pxlineheight22pxmargin0': 1, 'txtscorefloatleftwidth33pxmargintop5pxtextalignright': 1, 'tagcastfloatrightmargin1px': 1, 'relayspecial': 14, 'linkrelaydisplayblockoverflowhiddenpositionrelativeheight47pxbordertop1px': 1, 'linkrelayfstbordertop0': 1, 'eventteamoverflowhiddenpositionabsoluteleft159pxtop0width52pxheight47pxpaddingleft107px': 1, 'imgthumbpositionabsolutetop10pxright53px': 1, 'txtteamfloatleftwidth45pxmargin8px': 1, 'txtscorepositionabsolutetop15pxleft38pxwidth33pxtextaligncenter': 1, 'eventteamfstleft0width53pxpadding0': 1, '106px': 1, 'eventteamfst': 3, 'txtscoreleft89px': 1, 'imgthumbleft53pxrightauto': 1, 'txtteamtextalignright': 1, 'txttimedisplayblockfloatnonemargintop3pxtextaligncenter': 1, 'tagcastdisplayblockmargin2px': 1, 'linkviewwidth158pxheight66pxpadding27px': 1, '0fontsize12pxcolor888textaligncenter': 1, 'linkviewhovercolor888textdecorationnone': 1, 'linkview': 1, 'txtviewdisplayblockcolor118efftextdecorationunderline': 1, 'txtteamlineheight27px': 1, 'txtteammargintop12px': 1, 'txttimemargintop5px': 1, 'linkviewheight63pxpaddingtop30px': 1, 'boxspecialoverflowhiddenpositionrelativezindex0width641pxheight93pxmarginbottom15pxpadding36px': 1, '12pxborder1px': 1, 'boxspecial': 14, 'titspecialpositionabsolutetop7pxleft12pxfontsize13px': 1, 'linkspecialmarginright3px': 1, 'linkspecial2color888': 1, 'packslideoverflowhidden': 1, 'pagepctoptop8pxright12pxheight19px': 1, 'btnpagewidth19pxheight19pxlineheight19pxbackgroundposition40px': 1, 'btnnextwidth18pxbackgroundposition59px': 1, 'infopagecolor888': 1, 'numindexfontweightnormal': 1, 'linkbannerfloatleftpositionrelativewidth308pxheight80pxmarginleft5px': 1, 'linkbanner': 1, 'framegwidth306pxheight78px': 1, 'bannerwidewidth419pxheight80pxmarginleft11px': 1, 'bannerwide': 1, 'framegwidth417pxheight78px': 1, 'listspecialfloatleft': 1, 'listspecial': 8, 'lifloatleft': 2, 'linkthumbfloatleftpositionrelative': 1, 'linkthumb': 10, 'framegwidth54pxheight78px': 1, 'numgpositionabsolutetop0left0width16pxheight16pxfontsize11pxlineheight16pxcolorffffontfamilytahomaarialsansseriftextaligncenter': 1, 'continfooverflowhiddenwordbreakkeepall': 1, 'titinfodisplayblockoverflowhiddenmaxheight33pxfontweightnormalfontsize13pxlineheight17pxwordbreakbreakall': 1, 'txtinfodisplayblockoverflowhiddenfontsize12pxlineheight16pxcolor888whitespacenowraptextoverflowellipsis': 1, 'listmovie1': 9, 'liwidth146pxpaddingright12px': 2, 'numgbackgroundposition20px': 2, 'numpointbackgroundposition0': 2, 'continfopositionrelativepadding36px': 1, '9px': 2, 'titinfopositionabsolutetop0left9px': 1, 'txtinfofloatleftwidth100letterspacing0': 1, 'gradestardisplayblockoverflowhiddenpositionrelativewidth62pxheight12pxbackgroundposition40px': 1, 'innerstarpositionabsolutetop0left0widthautoheight12pxfontsize0lineheight0backgroundposition40px': 1, '50pxtextindent9999px': 1, 'listmovie2': 6, 'continfopadding0': 1, 'titinfomargin2px': 1, 'txtinfomaxheight31pxwhitespacenormal': 1, 'listmovie3': 10, 'limarginleft10px': 1, 'lifstmarginleft0': 2, 'linkthumbwidth203pxheight80px': 1, 'framegwidth201pxheight78px': 1, 'icoplaypositionabsoluteright10pxbottom10pxwidth22pxheight22pxfontsize0lineheight0backgroundposition100px': 1, 'continfopositionabsolutetop38pxleft0width152pxpadding0': 1, '10pxcolorfff': 1, 'txtinfocolorfff': 1, 'titinfodisplayinline': 1, 'txtruntimedisplayblockoverflowhiddenfontsize11pxlineheight13pxfontfamilytahomaarialsansserifwhitespacenowraptextoverflowellipsisletterspacing0': 1, 'listauto': 8, 'liwidth199pxpaddingleft10pxborderleft1px': 1, 'lifstpaddingleft0borderleft0': 1, 'linkthumbwidth120pxheight80px': 1, 'continfopadding13px': 1, 'titinfomarginbottom2px': 1, 'listrealestate': 8, 'liwidth203pxmarginleft8px': 1, 'linkthumbwidth110pxheight80px': 1, 'framegwidth108pxheight78px': 1, 'continfopaddingleft8px': 1, 'titinfomargintop2pxmarginbottom4px': 1, 'txtinfomargintop2pxlineheight14px': 1, 'titspecialtop10px': 1, 'numgfontfamilyhelveticaarialsansserif': 1, 'gradestarmarginbottom3px': 1, 'continfopaddingtop1px': 1, 'titinfomargintop0': 1, 'txtruntimemarginbottom2pxfontfamilyhelveticaarialsansserif': 1, 'continfopaddingtop16px': 1, 'titinfomargintop1pxlineheight16px': 1, 'listhotissueoverflowhiddenpositionrelativewidth180pxheight280px': 1, 'listhotissue': 33, 'lioverflowhiddenpositionrelativewidth100height20pxmarginbottom8px': 1, 'rolltxtpositionrelative': 1, 'rankcontoverflowhiddenpositionrelativeheight20px': 1, 'numpctopfloatleftwidth16pxheight16pxmargintop1pxfontsize12pxlineheight17pxfontfamilytahomaarialsansserifbackgroundcolortransparenttextaligncenter': 1, 'rank1backgroundposition20px': 1, 'rank2backgroundposition0': 1, 'rank3backgroundposition0': 1, 'rank4backgroundposition0': 1, 'rank5backgroundposition0': 1, 'rank6backgroundposition0': 1, 'rank7backgroundposition0': 1, 'rank8backgroundposition0': 1, 'rank9backgroundposition0': 1, 'rank10backgroundposition0': 1, 'txtissueoverflowhiddenfloatleftwidth119pxpaddingleft6pxlineheight15px': 1, 'linkissuedisplayblockoverflowhiddenpaddingbottom1pxwhitespacenowraptextoverflowellipsis': 1, 'rankresultfloatrightmargin1px': 1, '0fontweightnormalfontsize13pxlineheight14pxcolor888fontfamilytahomaarialsansserifbackgroundcolortransparentletterspacing005em': 1, 'rankresult': 1, 'icopctopdisplayinlineblockbackgroundcolortransparentverticalaligntop': 1, 'icoupwidth11pxheight14pxmarginright3pxbackgroundposition120px': 1, 'icodownwidth11pxheight14pxmarginright3pxbackgroundposition140px': 1, 'icosteadywidth11pxheight6pxmargin5px': 1, '0lineheight10pxbackgroundposition160px': 1, 'iconewwidth27pxheight12pxmargin2px': 1, '0backgroundposition120px': 1, 'txtissuelineheight20px': 1, 'rankresultlineheight16pxfontfamilyhelveticasansserif': 1, 'hotissuepositionabsolutetop19pxright90pxzindex1': 1, 'hotissueminioverflowhiddenpositionrelativewidth161pxheight20pxbackgroundcolorfff': 1, 'hotissuemini': 17, 'listhotissuewidth117px': 1, 'txtissuewidth95px': 1, 'txtrealtimefloatleftwidth44pxheight18pxlineheight18pxbackgroundposition325px': 1, '80pxbackgroundcolortransparenttextaligncenter': 1, 'rank2backgroundposition20px': 1, 'rank3backgroundposition20px': 1, 'rank4backgroundposition20px': 1, 'rank5backgroundposition20px': 1, 'rank6backgroundposition20px': 1, 'rank7backgroundposition20px': 1, 'rank8backgroundposition20px': 1, 'rank9backgroundposition20px': 1, 'rank10backgroundposition20px': 1, 'hotissuelayerdisplaynonepositionabsolutetop38pxright90pxwidth198pxheight384pxpaddingleft20pxborder1px': 1, 'hotissuelayer': 4, 'tithotissuepositionstaticwidth104pxheight34pxmargin10px': 1, '0fontsize13pxlineheight34pxbackgroundposition210px': 1, '80pxbackgroundcolortransparenttextindent0': 1, 'txtstandarddisplayblockpositionstaticwidthautoheightautomargintop5pxfontsize12pxlineheight14pxcolor888textindent0letterspacing0': 1, 'txtstandardmargintop8px': 1, 'issueopen': 1, 'hotissuelayerdisplayblock': 1, 'hotissuebuiltinpositionabsolutetop57pxright0width153pxheight424pxborderleft1px': 1, 'realtimepartheight292pxmarginleft14px': 1, 'realtimepart': 5, 'tithotissuepadding2px': 1, '6pxfontsize13pxcolor118eff': 1, 'listhotissuewidth138pxheight240px': 1, 'liwidth138pxmarginbottom4px': 1, 'txtissuewidth114px': 1, 'tithotissuepadding5px': 1, 'stockpartheight102pxmarginleft15px': 1, 'stockpart': 11, 'linkstockdisplayblockheight40pxmarginbottom8px': 1, 'linkstockhovercolor222textdecorationnone': 1, 'titstockdisplayblockmarginbottom1pxfontweightboldfontsize13pxlineheight15px': 1, 'numstockfontweightnormalfontsize14pxfontfamilytahomaarialsansserifletterspacing003em': 1, 'numstatuspaddingleft3pxfontsize12pxletterspacing0': 1, 'numstatus': 4, 'icoarrowdisplayinlineblockwidth9pxheight10pxmargin8px': 1, '0fontsize0lineheight0textindent9999pxverticalaligntop': 1, 'stockup': 2, 'numstatuscolore30000': 1, 'stockdown': 2, 'numstatuscolor118eff': 1, 'icoarrowbackgroundposition120px': 1, 'icoarrowbackgroundposition130px': 1, 'stockstay': 1, 'icoarrowbackgroundposition140px': 1, 'relpartoverflowhiddenwidth136pxheight28pxmarginleft14pxborder1px': 1, 'relpart': 3, 'itemreldisplayblockwidth139pxheight28px': 1, 'linkrelfloatleftwidth45pxheight28pxborderright1px': 1, 'ecececfontsize12pxlineheight26pxcolor888textaligncenter': 1, 'linkrellineheight29px': 1, 'sectionmultipositionrelativebordertop1px': 1, 'sectionmulti': 1, 'wraptabcontheight157px': 1, 'titkakaotv': 2, 'linktitwidth82pxbackgroundposition380px': 1, 'kakaotvon': 2, 'linktitbackgroundposition380px': 1, 'wrapkakaotv': 2, 'melonon': 1, 'wrapmelondisplayblock': 1, 'tabmultipositionabsolutetop14pxleft90pxheight36px': 1, 'tabmulti': 4, 'lidisplayinlinefloatleftmarginleft13px': 1, 'linktitdisplayblockoverflowhiddenheight36pxfontweightboldlineheight33pxcolor888textdecorationnone': 1, 'linktitcolor222textdecorationunderline': 1, 'linktitlineheight38px': 1, 'boximgspefloatleftmarginright13px': 1, 'boximgspe': 1, 'icolabelboximgspe': 1, 'icolabel3fontsize12px': 1, 'icovideobackgroundposition0': 1, 'sectionblogpositionrelativebordertop1px': 1, 'sectionblog': 2, 'wraptabcontoverflowhiddenheight179px': 1, 'titcafeleft5px': 1, 'titmiznetleft34px': 1, 'titkakaostoryleft87px': 1, 'tittistoryleft178px': 1, 'titbrunchleft243px': 1, 'titilboonleft296px': 1, 'titstoryfundingleft349px': 1, 'titcafe': 2, '220px': 8, 'titmiznet': 2, 'linktitwidth50pxbackgroundposition36px': 1, 'titkakaostory': 2, 'linktitwidth88pxbackgroundposition86px': 1, 'tittistory': 2, 'linktitwidth62pxbackgroundposition174px': 1, 'titbrunch': 2, 'linktitwidth50pxbackgroundposition236px': 1, 'titilboon': 2, 'linktitwidth50pxbackgroundposition286px': 1, 'titstoryfunding': 2, 'linktitwidth74pxbackgroundposition336px': 1, 'cafeon': 2, '256px': 7, 'mizneton': 2, 'kakaostoryon': 2, 'linktitbackgroundposition86px': 1, 'tistoryon': 2, 'linktitbackgroundposition174px': 1, 'brunchon': 2, 'linktitbackgroundposition236px': 1, 'ilboonon': 2, 'linktitbackgroundposition286px': 1, 'storyfundingon': 2, 'linktitbackgroundposition336px': 1, 'wrapmiznet': 1, 'wrapcafe': 1, 'wrapkakaostory': 1, 'wraptistory': 1, 'wrapbrunch': 1, 'wrapilboon': 1, 'wrapstoryfundingdisplayblock': 1, 'boxstoryfloatrightwidth297pxheight152pxpadding0': 1, 'liststoryoverflowhiddenfloatleft': 1, 'liststory': 17, 'lifloatleftheight160pxmarginleft13px': 1, 'linkitemdisplayblockpositionrelativewidth154pxcursorpointer': 1, 'linkitemhovercolor222textdecorationnone': 2, 'contitemheight56pxpadding4px': 1, 'originitemdisplayblockoverflowhiddenpositionrelativemargintop4pxfontsize12pxlineheight18pxcolor888whitespacenowraptextoverflowellipsis': 1, 'originitem': 4, 'txttellerdisplayblockoverflowhiddenwhitespacenowraptextoverflowellipsis': 1, 'icostorytelleroverflowhiddenpositionabsoluteright0top4pxwidth13pxheight15pxfontsize1pxlineheight0backgroundposition170px': 1, '100pxtextindent9999px': 1, 'linkitemhover': 6, 'tititemcolor118efftextdecorationunderline': 2, 'originitemcolor888textdecorationnone': 1, 'itemtellerdisplayinlineblockmaxwidth115pxpaddingright18px': 1, 'contitemheight54pxpaddingtop6px': 1, 'icostorytellertop0': 1, 'typedesc': 8, 'linkitemwidth152pxheight152pxborder1px': 1, 'contitemheight117pxpadding7px': 1, 'tititemheightautomaxheight36px': 1, 'descitemdisplayblockoverflowhiddenmaxheight48pxpaddingtop8pxfontsize11pxlineheight16pxcolor888wordbreakkeepallwordwrapbreakword': 1, 'originitempositionabsoluteleft13pxbottom9pxright13px': 1, 'itemtellerrightautomaxwidth106px': 1, 'contitemheight96pxpaddingtop10px': 1, 'originitembottom6px': 2, 'typeimg': 10, 'thumbgzindex1height154px': 1, 'framegwidth152pxheight152px': 2, 'contitempositionabsolutetop0left0bottom0width154pxheight154pxbackgroundurlt1daumcdnnetdaumtopdecoimagestop2017bgplate6png': 1, 'tititempositionabsoluteleft13pxright13pxbottom37pxheightautomaxheight36pxpaddingright10pxcolorfff': 1, 'originitempositionabsoluteleft13pxright13pxbottom14pxcolorc9c9c9': 1, 'originitemcolorc9c9c9textdecorationnone': 1, 'tititemcolorffftextdecorationunderline': 1, 'contitemheightautopadding0': 1, 'tititembottom30px': 2, 'graphitemoverflowhiddenpositionabsolutetop74pxleft0width154px': 1, 'graphitem': 7, 'infographpositionabsoluteright10pxtop0zindex10colorfff': 1, 'infograph': 1, 'numgraphfontweightbold': 1, 'bargraphdisplayblockheight20pxbackgroundurlt1daumcdnnetdaumtopdecoimagestop2017bggraphpng': 1, 'repeat': 1, 'barsupportpositionabsoluteleft0top0height20px': 1, 'barsupport': 4, 'bgleftpositionabsoluteleft0top0right16pxheight20pxbackgroundurlt1daumcdnnetdaumtopdecoimagestop2017bargraphpng': 1, 'repeatx': 2, 'bgrightpositionabsoluteright14pxtop0width30pxheight20pxbackgroundurlt1daumcdnnetdaumtopdecoimagestop2017bargraphrightpng': 1, 'fullgraph': 3, 'barsupportwidth100backgroundurlt1daumcdnnetdaumtopdecoimagestop2017bargraphfull2png': 1, 'bgleft': 1, 'bgrightwidth0backgroundnone': 1, 'infographtop2px': 1, 'sectionchannelpositionrelativebordertop1px': 1, 'sectionchannel': 6, 'panelblocpaddingtop60px': 1, 'wraptabcontoverflowhiddenheight507px': 1, 'tithomecookingleft5px': 1, 'titmoneyleft59px': 1, 'titpetleft96px': 1, 'titwomenleft133px': 1, 'titmenleft182px': 1, 'tittravelleft212px': 1, 'titbusinessleft274px': 1, 'titmusicleft325px': 1, 'titwebtoonleft362px': 1, 'titgameleft398px': 1, 'tittogetherpanelbloc': 1, 'tittogether2left434px': 1, 'tithomecooking': 2, 'linktitwidth59pxbackgroundposition0': 1, 'titmoney': 2, 'linktitwidth37pxbackgroundposition59px': 1, 'titpet': 2, 'linktitwidth37pxbackgroundposition96px': 1, 'titwomen': 2, 'linktitwidth49pxbackgroundposition133px': 1, 'titmen': 2, 'linktitwidth30pxbackgroundposition182px': 1, 'tittravel': 2, 'linktitwidth62pxbackgroundposition212px': 1, 'titbusiness': 2, 'linktitwidth51pxbackgroundposition274px': 1, 'titmusic': 2, 'linktitwidth37pxbackgroundposition325px': 1, 'titwebtoon': 2, 'linktitwidth36pxbackgroundposition362px': 1, 'titgame': 2, 'linktitwidth36pxbackgroundposition398px': 1, 'tittogether': 2, 'linktitwidth63pxbackgroundposition434px': 1, 'tittogether2': 2, 'linktitwidth72pxbackgroundposition497px': 1, 'homecookingon': 2, '346px': 12, 'moneyon': 1, 'linktitbackgroundposition59px': 1, 'peton': 1, 'linktitbackgroundposition96px': 1, 'womenon': 1, 'linktitbackgroundposition133px': 1, 'menon': 2, 'linktitbackgroundposition182px': 1, 'travelon': 2, 'linktitbackgroundposition212px': 1, 'businesson': 2, 'linktitbackgroundposition274px': 1, 'musicon': 2, 'linktitbackgroundposition325px': 1, 'webtoonon': 2, 'linktitbackgroundposition362px': 1, 'gameon': 2, 'linktitbackgroundposition398px': 1, 'togetheron': 3, 'linktitbackgroundposition434px': 1, 'linktitbackgroundposition497px': 1, 'wraphomecookingmoneyon': 1, 'wrapmoneypeton': 1, 'wrappetwomenon': 1, 'wrapwomen': 1, 'wrapmen': 1, 'wraptravel': 1, 'wrapbusiness': 1, 'wrapmusic': 1, 'wrapwebtoon': 1, 'wrapgame': 1, 'wraptogetherdisplayblock': 1, 'boxchannelfloatleftpositionrelativewidth154pxheight159pxmargin0': 1, 'boxchannelfstmarginleft0': 1, 'boxchannel': 18, 'linkitemdisplayblockpositionrelativewidth154px': 1, 'thumbgoverflowhiddenwidth154pxheight94px': 1, 'icoadpositionabsoluteright9pxbottom9pxwidth33pxheight19pxfontsize0lineheight0backgroundposition0': 1, '40pxtextindent9999px': 1, 'tititemdisplayblockoverflowhiddenmaxheight36pxpaddingright12pxfontweightnormallineheight18pxwordwrapbreakword': 1, 'channelitemdisplayblockheight18pxpadding4px': 1, '0fontsize12pxlineheight18px': 1, 'channelitem': 2, 'linkchanneldisplayinlineblockoverflowhiddenmaxwidth124pxheight20pxlineheight18pxcolor888verticalaligntopwhitespacenowraptextoverflowellipsis': 1, 'originitemdisplayblockoverflowhiddenmargintop3pxfontsize12pxlineheight21pxcolor888whitespacenowraptextoverflowellipsis': 1, 'thumbchanneldisplayinlineblockpositionrelativemargin1px': 1, 'thumbchannel': 2, 'imgthumbborderradius18px': 1, 'bgframepositionabsolutetop0left0width18pxheight18pxbackgroundposition410px': 1, 'thumbchannelmargintop0': 1, 'linkchannellineheight20px': 2, 'typechdescbackgroundcolorfbfbfc': 1, 'typechdesc': 5, 'linkitemwidth152pxheight129pxborder1px': 1, 'ecececborderbottomwidth0': 1, 'contitemheight112pxpadding13px': 1, 'descitemdisplayblockoverflowhiddenmaxheight48pxpaddingtop8pxfontsize11pxlineheight16pxcolor888': 1, 'channelitempadding0': 1, '13pxborder1px': 1, 'ecececbordertopwidth0': 1, 'contitemheight108pxpaddingtop16px': 1, 'boximgspemarginright0': 1, 'linksectorheight159px': 1, 'framegwidth319pxheight157px': 2, 'contitemheight159pxbackgroundimageurlt1daumcdnnetdaumtopdecoimagestop2017bgplate5png': 1, 'boxchwidefloatleftpositionrelativewidth321pxheight159pxmargin0': 1, 'boxchwide': 10, 'linkitemdisplayblockoverflowhiddenpositionrelativewidth321pxheight159px': 1, 'linkitem': 6, 'thumbgzindex1width321pxheight159px': 1, 'contitempositionabsolutetop0left0width321pxheight159pxcolorfffbackgroundurlt1daumcdnnetdaumtopdecoimagestop2017bgplate5png': 1, 'tititemoverflowhiddenpositionabsoluteleft17pxbottom13pxmaxwidth284pxheight20pxfontweightnormalfontsize14pxlineheight20pxwhitespacenowraptextoverflowellipsis': 1, 'tititemhovercolorfff': 1, 'linkchanneloverflowhiddenpositionabsoluteleft16pxbottom32pxmaxwidth284pxheight20pxfontsize12pxlineheight18pxcolorfffwhitespacenowraptextoverflowellipsis': 1, 'thumbchanneldisplayinlineblockpositionrelativemarginright5pxverticalaligntop': 1, 'boxchextraoverflowhiddenfloatleftpositionrelativewidth154pxheight159pxmargin0': 1, 'boxchextra': 17, 'titchextrapositionabsolutetop14pxleft15pxright50pxzindex1fontsize11pxcolor118eff': 1, 'linkitemdisplayblockwidth154pxheight159px': 1, 'thumbgzindex1width154pxheight159px': 1, 'framegwidth152pxheight157px': 1, 'contitempositionabsolutetop0left0width154pxheight159pxbackgroundurlt1daumcdnnetdaumtopdecoimagestop2017bgplate6png': 1, 'emphextrapositionabsolutetop14pxleft15pxright15pxfontsize11pxcolor118eff': 1, 'tititempositionabsoluteleft14pxright14pxbottom34pxfontweightnormallineheight18pxcolorfff': 1, 'tititemtextdecorationunderline': 1, 'originitemdisplayinlineblockoverflowhiddenpositionabsoluteleft13pxrightautobottom8pxmaxwidth124pxfontsize12pxlineheight24pxcolorc9c9c9whitespacenowraptextoverflowellipsis': 1, 'titchextratop17px': 1, 'emphextratop17px': 1, 'originitembottom5px': 1, 'titbanneroverflowhiddenpositionabsoluteleft14pxright14pxbottom15pxfontweightnormalfontsize11pxcolorffftextdecorationunderlinetextaligncenterwhitespacenowraptextoverflowellipsis': 1, 'pagepctoptop15pxright15pxbottomauto': 1, 'btnpagewidth16pxheight16pxlineheight16pxbackgroundposition60px': 1, 'btnnextwidth15pxbackgroundposition76px': 1, 'listchbest': 9, 'lipositionrelativewidth154pxheight159px': 1, 'thumbgzindex0': 1, 'linkchbestpositionabsolutetop0left0width154pxheight120px': 1, 'titchbestoverflowhiddenpositionabsoluteleft14pxright14pxbottom0maxheight36pxfontweightnormalfontsize13pxlineheight18pxcolorfffwordbreakkeepallwordwrapbreakword': 1, 'titchbesthovertextdecorationunderline': 1, 'linkchanneloverflowhiddenpositionabsoluteleft0bottom0maxwidth124pxheight25pxpadding2px': 1, '10pxfontsize11pxlineheight23pxcolorc9c9c9whitespacenowraptextoverflowellipsis': 1, 'thumbchannelfloatleftpositionrelativemargin5px': 1, 'linkchannelpadding4px': 1, 'thumbchannelmargintop3px': 1, 'boxinfobnrfloatleftmargin0': 1, 'boxinfobnr': 15, 'linkitemdisplayblockoverflowhiddenpositionrelative': 1, 'linkitemhovercolor222': 1, 'thumbgzindex1width154pxheight154pxbackgroundcolorfff': 1, 'contitemoverflowhiddenpositionabsolutetop8pxleft13pxright7px': 1, 'tititemdisplayinlineblockoverflowhiddenmaxwidth120pxpaddingright8pxfontweightboldbackgroundposition100': 1, '7pxwhitespacenowraptextoverflowellipsisverticalaligntop': 1, 'txtinfodisplayblockoverflowhiddenmargintop2pxwhitespacenowraptextoverflowellipsis': 1, 'originitemdisplayblockoverflowhiddenmargintop2pxfontsize12pxlineheight16pxcolor888whitespacenowraptextoverflowellipsis': 1, 'contitemtop11px': 1, 'tititembackgroundposition100': 1, 'wraptogether': 2, 'thumbgheight159px': 2, 'framegheight157px': 2, 'grouprecommoverflowhiddenwidth670pxclearboth': 1, 'grouprecomm': 6, 'boxstoryfloatleftwidth295pxheight157pxmarginright13pxpadding0': 1, 'boxrecomm': 6, 'listrecommoverflowhiddenwidth321pxmargintop11px': 1, 'listrecomm': 4, 'lifloatleftwidth140pxheight30pxmargin0': 1, 'linkrecommdisplayinlineblockoverflowhiddenmaxwidth100lineheight30pxwhitespacenowraptextoverflowellipsis': 1, 'thumbrecommfloatleftwidth30pxheight30pxmarginright6pxverticalaligntop': 1, 'thumbrecomm': 1, 'imgthumbborderradius30px': 1, 'listrecommmargintop9px': 1, 'boxbest': 5, 'listrankingmargintop7px': 1, 'txtrankingwidth270px': 1, 'lipaddingbottom3px': 1, 'numpctopmargintop2px': 1, 'boxgamemarginright0': 1, 'boxinfobnrheight159pxmarginbottom0': 1, 'txtinfomargin0': 1, 'boxwtrankpositionrelative': 1, 'boxwtrank': 1, 'titsubjectpositionabsolutetop0left11pxzindex1': 1, 'listwtrankmargintop13px': 1, 'listwtrank': 16, 'fstoverflowhiddenpositionrelativeheight62pxmarginbottom9pxpaddingtop20pxborderbottom1px': 1, 'imgthumbpositionabsolutetop0right0widthautoheight83pxpointereventsnone': 1, 'linkrankingdisplayinlineblockoverflowhiddenlineheight18pxverticalaligntop': 1, 'contitemoverflowhiddenwidth140px': 1, 'txtrankingdisplayblockoverflowhiddenmaxwidth200pxwhitespacenowraptextoverflowellipsis': 1, 'txtrankingcolor118efftextdecorationunderline': 1, 'txtrankingmaxheight36pxwhitespacenormalwordbreakkeepallwordwrapbreakword': 1, 'limarginbottom4px': 1, 'fstheight59pxmarginbottom9pxpaddingtop23px': 1, 'boxmusicpaddingleft12pxheight157px': 1, 'boxmusic': 6, 'headitemoverflowhiddenpadding7px': 1, '11pxlineheight18px': 1, 'headitem': 4, 'titsubjectfloatleftmargin0': 1, 'txtstandardfloatleftfontsize11pxcolor888': 1, 'txtnumfontfamilytahomaarialsansserifletterspacing0': 1, 'listmusicoverflowhiddenwidth646px': 1, 'listmusic': 16, 'lifloatleftpositionrelativewidth70pxmarginright36pxpaddingleft22px': 1, 'linkitemdisplayblockwidth70px': 1, 'thumbgwidth70pxheight70px': 1, 'framegwidth68pxheight68px': 1, 'contitemdisplayblockpaddingtop4px': 1, 'tititemdisplayblockoverflowhiddenmargin0fontweightnormallineheight16pxwhitespacenowraptextoverflowellipsis': 1, 'tititemhovercolor118efftextdecorationunderline': 1, 'originitemdisplayblockoverflowhiddenfontsize12pxlineheight16pxcolor888whitespacenowraptextoverflowellipsis': 1, 'linksingercolor888': 1, 'numpctoppositionabsolutetop0left0width16pxheight16pxtextindent9999pxverticalaligntop': 1, 'headitempadding10px': 1, 'txtnumfontfamilyhelveticaarialsansserif': 1, 'wraptopicwidth990pxmargin0': 1, 'autopadding29px': 1, '45px': 1, 'wraptopic': 4, 'titphotodisplayinlineblockoverflowhiddenheight36pxfontsize16pxlineheight33pxverticalaligntop': 1, 'linkphotoclipdisplayinlineblockpaddingright11pxbackgroundposition100': 1, '242pxwhitespacenowrapverticalaligntop': 1, 'linkphotothemedisplayinlineblockmarginright6pxcolor118effverticalaligntop': 1, 'viewphotooverflowhiddenpositionrelativewidth990pxheight400pxmargintop20px': 1, 'viewphoto': 26, 'listphotooverflowhiddenpositionabsolutetop0': 1, 'listphoto': 2, 'boxphotodisplayblockoverflowhiddenwidth682pxheight400pxbackgroundcolor333textdecorationnonetextaligncenter': 1, 'boxphoto': 1, 'imgthumbdisplayinline': 1, 'detailphotodisplaynonepositionabsolutetop0left50width682pxmarginleft341pxpaddingtop330px': 1, 'detailphoto': 2, 'framegwidth680pxheight398px': 1, 'linkphotodisplayblockoverflowhiddenpositionrelativeheight70pxbackgroundurlt1daumcdnnetdaumtopdecoimagestop2017bgplateslidepng': 1, 'linkphotohovertextdecorationnone': 1, 'linkphoto': 4, 'icophotopositionabsolutetop18pxright20pxwidth17pxheight15pxbackgroundposition160px': 1, '60pxtextindent9999px': 1, 'titgalleryoverflowhiddenmargin14px': 1, '57px': 1, '20pxfontweightnormalfontsize14pxcolorf4f4f4textdecorationnonewhitespacenowraptextoverflowellipsis': 1, 'descsourcedisplayblockpadding1px': 1, '20pxfontsize11pxcolorfffopacity06filteralphaopacity60': 1, 'txtdatemarginleft10pxfontfamilyHelveticatahomasansserif': 1, 'btnpreviewoverflowhiddenpositionabsolutetop0width152pxheight400pxbackgroundurlt1daumcdnnetdaumtopdecoimagestop2017bgplateslide2png': 1, 'norepeattextdecorationnonecursorpointer': 1, 'btnpreview': 4, 'framegwidth150pxheight398px': 1, 'icopctoppositionabsolutetop170pxwidth60pxheight60pxtextindent9999px': 1, 'btnprevleft0borderright2px': 1, 'fff': 2, 'btnprev': 2, 'icopctopleft0backgroundposition190px': 1, 'btnnextright0borderleft2px': 1, 'btnnext': 3, 'icopctopright0backgroundposition190px': 1, 'btngallerybackgroundcolor333': 1, 'txtgallerydisplaynonepadding184px': 1, '71pxlineheight16pxcolorfff': 1, 'btngallery': 1, 'txtgallerydisplayblock': 1, 'txtgallerypaddingright71pxpaddingleft0textalignright': 1, 'viewslideoverflowhiddenpositionrelativeheight60pxmargintop20px': 1, 'viewslide': 27, 'listthumbnailoverflowhidden': 1, 'listthumbnail': 4, 'lifloatleftpaddingleft2px': 1, 'lifstpaddingleft0': 1, 'linkthumbdisplayblockpositionrelativewidth60pxheight60px': 1, 'framegwidth58pxheight58pxcursorpointer': 1, 'framegwidth56pxheight56pxborder2px': 1, '118effopacity1filteralphaopacity100': 1, 'covergpositionabsolutetop0bottom0left0right0backgroundfffopacity06filteralphaopacity60': 1, 'btnmovepositionabsolutetop0width20pxheight60px': 1, 'btnprevleft0': 1, 'btnnextright0': 1, 'btnmove': 1, 'icopctopdisplayblockwidth20pxheight20pxmargintop20pxtextindent9999pxcursorpointer': 1, 'icopctopbackgroundposition190px': 1, 'icopctopbackgroundposition220px': 1, 'titphotolineheight39px': 1, 'titgallerymargintop16px': 1, 'descsourcepaddingtop2px': 1, 'txtgallerypaddingtop186px': 1, 'vphototype2': 9, 'boxphotowidth990px': 1, 'detailphotowidth990pxmarginleft495px': 1, 'framegwidth988px': 1, 'linkphotobackgroundrepeat': 1, 'btnpreviewtop140pxheight120pxborder0': 1, 'nonebackgroundnone': 1, 'framegdisplaynone': 1, 'icopctoptop30px': 1, 'txtgallerypaddingtop43px': 1, 'listthumbnail2': 3, 'linkthumbwidth246px': 1, 'framegwidth244px': 1, 'framegwidth242px': 1, 'listthumbnail3': 9, 'linkthumboverflowhiddenwidth196px': 1, 'framegwidth194px': 1, 'framegwidth192px': 1, 'fst': 2, 'lst': 2, 'linkthumbwidth197px': 1, 'frameg': 2, 'framegwidth195px': 1, 'fston': 1, 'lston': 1, 'framegwidth193px': 1, 'txtgallerypaddingtop46px': 1, 'topicspepositionabsolutetop0left50width990pxmarginleft495pxbackgroundred': 1, 'topicspe': 3, 'linkspeoverflowhiddenpositionabsolutetop0width464pxheight610pxfontsize1pxlineheight0textalignlefttextindent9999px': 1, 'linkspeleftleft465px': 1, 'linksperightright465px': 1, 'noticelayeroverflowhiddenwidth100borderbottom1px': 1, 'ecf2f7backgroundcolorf4faff': 1, 'innernoticelayeroverflowhiddenpositionrelativewidth990pxheight110pxmargin0': 1, 'autobackgroundimageurlt1daumcdnnetdaumtopdecoimagestop2017noticestartpngbackgroundrepeatnorepeat': 1, 'innernoticelayer1backgroundposition100': 1, 'innernoticelayer': 6, 'setstartfloatleftpaddingtop29px': 1, 'txtnewsdisplayblockfontweightnormalfontsize20px': 1, 'linkstartoverflowhiddenfloatleftmargintop3pxpaddingright9pxfontsize12pxcolor888backgroundposition100': 1, '197pxtextdecorationunderline': 1, 'btncloseoverflowhiddenpositionabsolutetop36pxright0width20pxheight20pxbackgroundposition170px': 1, '180pxtextindent9999px': 1, 'setstartpaddingtop33px': 1, 'linkstartmargintop0': 1, 'mobileweblayeroverflowhiddenwidth100paddingbottom29pxbordertop1px': 1, 'ecececbackgroundcolorf2f2f2textaligncenter': 1, 'mobileweblayer': 7, 'txtmobilemargintop18pxmarginleft13pxfontsize12pxcolor888': 1, 'txtmobile': 2, 'icoinfodisplayinlineblockwidth13pxheight13pxmargin3px': 1, '0backgroundposition170px': 1, '120pxverticalaligntop': 1, 'linkmobiledisplayblockwidth100pxheight30pxmargin12px': 1, 'dadbddfontweightboldfontsize13pxlineheight28pxcolor222backgroundcolorfff': 1, 'linkmobilehovertextdecorationnone': 1, 'txtmobilemargintop22pxmarginleft9px': 1, 'icoinfomargin1px': 1, 'linkmobilemargintop9pxlineheight31px': 1, 'media': 1, 'only': 4, 'screen': 4, 'and': 4, 'webkitmindevicepixelratio': 1, '15': 2, 'mindevicepixelratio': 1, 'minresolution': 2, '144dpi': 1, '15dppx': 1, 'icosuggestbackgroundimageurlsearch1daumcdnnetsearchstaticscommonpir2weathericoweathermpngbackgroundsize43px': 1, '1680px': 1, 'icopctopbackgroundimageurlt1daumcdnnetdaumtopdecoimagestop2017rtnicopctop170828pngbackgroundsize250px': 1, 'icovertbackgroundimageurlt1daumcdnnetdaumtopdecoimagestop2017rtnicopctopvert170724pngbackgroundsize100px': 1, '500px': 1, 'txtpctopbackgroundimageurlt1daumcdnnetdaumtopdecoimagestop2017rtntxtpctop170915pngbackgroundsize600px': 1, 'bgpctop': 1, 'loginmybackgroundimageurlt1daumcdnnetdaumtopdecoimagestop2017rtnbgpctop170328pngbackgroundsize610px': 1, '490px': 1, 'numpctopbackgroundimageurlt1daumcdnnetdaumtopdecoimagestop2017rtnnumpctop170405pngbackgroundsize80px': 1, 'innernoticelayerbackgroundimageurlt1daumcdnnetdaumtopdecoimagestop2017rtnnoticestartpngbackgroundsize300px': 1, 'imgweatherbackgroundimageurlt1daumcdnnetdaumtopdecoimagestop2017rtnimgweather170628pngbackgroundsize300px': 1, '460px': 1, 'icowmbackgroundimageurlt1daumcdnnetdaumtopdecoimagestop2017rtnicowmpngbackgroundsize400px': 1, 'rolltxt': 3, 'webkittransition': 5, 'transform': 27, '0s': 5, 'linear': 5, 'moztransition': 5, 'mstransition': 5, 'otransition': 5, 'transition': 5, 'webkittransform': 7, 'translateY0': 5, 'moztransform': 7, 'mstransform': 7, 'otransform': 7, 'licurrent': 3, 'translateY20px': 5, '3s': 15, 'easeout': 10, 'translateY0px': 10, 'initial': 5, 'important': 5, 'positionabsolute': 1, 'backgroundcolorfff': 1, 'translateY28px': 10, 'opacity1': 1, 'linext': 1, 'opacity0': 1, 'cEtc': 3, 'listthumbnailwidth1858px': 1, 'listthumbnail2width990px': 1, 'ease': 5, 'translateX0': 5, '주요': 2, '서비스': 5, '바로가기': 9, '오늘의': 6, '정보': 8, '미디어': 3, '실시간': 4, '이슈': 4, '멀티미디어': 2, '블로그': 6, '유익한': 2, '쇼핑': 3, '포토amp영상': 1, '웹': 1, '접근성': 1, '안내': 2, '자동실행': 1, '광고': 1, '설정': 1, '검색': 7, '통합': 2, '인기': 1, '검색어': 3, '트와이스': 2, '라이키': 1, '멜로홀릭': 1, '경수진': 1, '민아': 1, '솔로데뷔': 1, '김재철': 1, '압수수색': 1, '정은지': 1, '애국가': 1, '김주혁': 6, '사망': 2, '신태용': 1, '이동국': 3, '지진': 1, '대피훈련': 1, '정준하': 1, '고소취하': 1, '유연석': 7, '시구': 2, '도민호': 6, '신태용호': 1, '명단': 1, '한라산': 1, '상고대': 1, '한국시리즈': 2, '5차전': 2, '성시경': 1, '정유미': 1, 'lt이전': 1, 'gt다음': 1, '다음을': 1, '시작페이지로': 1, '카페': 3, '메일': 2, '뉴스': 4, '지도': 2, '증권': 1, '카카오TV': 3, '웹툰': 3, '브런치': 3, '사전': 1, '게임': 3, '별플레이': 2, '같이가치': 3, '주요서비스': 1, '더보기': 2, '⋁': 1, '전체': 1, '커뮤니케이션': 1, '티스토리': 2, '아지트': 1, '카카오스토리': 2, '스포츠': 4, '연예': 2, '아고라': 1, '쇼핑생활': 1, '쇼핑하우': 1, '금융': 1, '부동산': 2, '자동차': 2, '미즈넷': 2, '요리': 1, '문화엔터': 1, '영화': 2, '책': 1, '사전지식': 1, '어학사전': 1, '단어장': 1, '백과사전': 1, '팁': 1, '나눔펀딩': 1, '스토리펀딩': 2, '길찾기': 1, '로드뷰': 1, '버스정보': 1, '지하철노선도': 1, '카카오': 3, '소식': 1, '다음': 8, '전체보기': 2, '메뉴닫기': 1, '10': 1, '30': 1, '월': 1, '날씨': 21, '서울시': 1, '맑음': 19, '영상': 19, '9도': 5, '9°C': 5, '경기도': 1, '7도': 3, '7°C': 3, '인천시': 2, '대구시': 1, '10도': 1, '10°C': 1, '대전시': 1, '8도': 4, '8°C': 4, '광주시': 1, '부산시': 1, '12도': 2, '12°C': 2, '울산시': 1, '경상북도': 2, '강원도': 2, '11도': 2, '11°C': 2, '충청북도': 1, '6도': 1, '6°C': 1, '전라북도': 1, '전라남도': 2, '제주자치도': 1, '13도': 1, '13°C': 1, '경상남도': 1, '날찌정보': 1, '8897': 1, '펼치기': 1, '현재': 7, '지역': 1, '어제보다': 1, '°C': 1, '상세보기': 1, '미세먼지': 1, '통합대기': 1, 'X': 1, '날씨정보': 1, '닫기': 1, '선택됨': 1, '1탭': 1, '20만원': 1, '벌금': 1, '안무서워': 1, '활개치는': 1, '자료': 1, '모으며': 1, '폭로': 1, '준비난': 1, '그냥': 1, '꼴통': 1, '일반뉴스': 1, '고동진': 1, '삼성': 1, '사장': 1, 'quot스마트폰': 1, '출고가는': 1, '이통사가': 1, '정한다quot': 1, '朴국정원': 1, '左성향단체': 1, '15곳middot문제인물': 1, '249명': 1, '39블랙리스트39': 1, '작성': 1, '39우편향39': 1, '안보교육': 1, 'DVD에도': 1, '국정원': 1, '개입개혁위': 1, '수사의뢰': 1, '권고': 1, '39어금니': 1, '아빠39': 1, '이영학': 1, '딸': 1, '구속法': 1, 'quot증거인멸middot도주': 1, '우려quot': 1, '특검': 1, 'quot삼성박근혜': 1, '유착quot삼성': 1, 'quot강요': 1, '피해자quot': 1, '설전middot반박': 1, '아동middot여성': 1, '실종사건에': 1, '형사들도': 1, '공동': 1, '대응한다': 1, '전교조': 1, '반대': 1, '학부모단체에': 1, '지원금': 1, '39펑펑39': 1, '세월호': 1, '연말까지': 1, '추가수색117억': 1, '예산': 1, '편성': 1, '바른정당': 1, '분열': 1, '가시화구당파': 1, '움직임이': 1, '마지막': 1, '변수': 1, '39이건희': 1, '차명재산': 1, '과세39': 1, '태도': 1, '바뀐': 1, '금융위책임': 1, '미루기': 1, '급급': 1, '간경화로': 1, '사망한': 1, '육각수': 6, '도민호의': 1, '빈소': 1, '니퍼트': 1, '앞에서': 1, '다이나믹한': 1, '그리스로': 1, '날아간': 1, '피겨여왕': 1, '김연아': 1, '뉴스홈': 1, '연재': 1, '랭킹': 1, 'TV': 2, '포토': 4, '미디어랩': 1, 'live': 1, 'KS': 1, 'KIA': 1, 'vs': 1, '두산': 1, '탭1전체': 2, '탭8': 1, 'lt': 4, '이전': 6, '탭': 8, 'gt': 4, '1위': 5, '이유영': 5, '2위': 5, '3위': 5, '4위': 5, '5위': 5, '나무엑터스': 5, '6위': 5, '삼성동': 5, '교통사고': 5, '7위': 5, '멜론티켓': 5, '8위': 5, '9위': 5, '버나디나': 5, '10위': 5, '생방송': 5, '투데이': 5, '증시': 2, '영국': 1, '749449': 1, '9662': 1, '전일대비': 2, '하락1054': 1, '독일': 1, '1322353': 1, '9652': 1, '상승599': 1, '관련': 1, '링크모음': 1, '환율': 1, '운세': 1, 'uarr': 20, '상승244': 2, '상승999': 2, '상승211': 2, '상승75': 2, '상승65': 2, '상승63': 2, '상승32': 2, '상승46': 2, '상승50': 2, '상승43': 2, '20171030': 2, '1939기준': 1, 'X닫기': 1, 'TV하이라이트': 2, '대박이': 2, '수난시대': 2, '명장면': 2, '운동': 2, '좀': 3, '배워볼까': 2, '미운': 1, '우리': 1, '새끼': 1, '동영상': 16, '샘': 1, '오취리': 1, '친구의': 1, '가나': 1, '원빈': 1, '칭찬에': 1, '폭풍': 1, '으쓱': 1, '전체관람가': 1, '봉만대': 1, '감독': 1, '걱정이': 1, '마를': 1, '날이': 1, '없는': 1, '권오중': 1, '나의': 1, '외사친': 1, '오연수': 1, '이탈리아에서': 1, '잘생긴': 1, '아들들과': 1, '영상통화': 1, '슈퍼맨이': 1, '돌아왔다': 1, '시안이': 2, '장난꾸러기': 1, '장난에': 2, '오열': 2, '똥': 1, '냄새나': 1, '은행의': 1, '습격': 1, 'quot똥': 1, '냄새나quot': 1, '간식': 1, '사수': 1, '미션': 1, '위해': 1, '달리는': 1, '39늘보': 1, '빠기39': 1, '언제나': 1, '여유': 1, '만만한': 1, 'quot찌아니': 2, '몰라quot': 1, '더': 2, '이상': 1, '무소유': 1, '시안이가': 1, '아니다': 1, '거예요quot': 1, '커쇼': 1, '단일': 1, 'PS': 1, '최다': 1, '피홈런': 1, '불명예': 1, '하염없이': 1, '3점포를': 1, '바라보는': 1, '마에다': 1, '문경은이상민': 1, '설전': 1, '39라이벌은': 1, '무슨39': 1, '벤제마호날두이스코의': 1, '합작': 1, '골': 1, '프로가': 1, '전수하는': 1, '어프로치': 1, '잘하는': 1, '법': 1, '해설자도': 1, '감탄한': 1, '뒤': 1, '돌려치기': 1, '수영': 1, '호흡할': 1, '때': 1, '주의해야': 1, '할': 2, '점': 1, '족구': 1, '한다': 1, '소리': 1, '듣고': 1, '싶으면': 1, '탭4': 1, '50대': 1, '맞아': 1, '믿기지': 1, '않는': 1, '최강': 1, '동안': 1, '여배우': 1, '패션in스타': 1, '세상에': 1, '이게': 1, '김밥': 1, '만': 1, '원어치라고': 1, '스브스뉴스SBS': 1, '단돈': 1, '4000원으로': 1, '차린': 1, '가성비': 1, '甲': 1, '할로윈': 1, '밥상': 1, '안나': 1, '스토리텔러': 2, '39수요미식회39': 1, '출연한': 1, '맛집': 1, '가봤더니': 1, '만보': 1, '1boon': 1, '탭3전체': 1, '탭7': 1, '홈amp쿠킹': 1, '머니': 1, '동물': 1, '스타일': 1, 'Men': 1, '여행맛집': 1, '직장IN': 1, '뮤직': 1, '스타DJ': 1, '라디오': 1, '스페셜': 1, '장윤주': 1, '스타': 1, 'DJ요': 1, '여기서요런웨이의': 1, '싱어송라이터': 1, '반전': 1, '매력♡': 1, '지하실에서': 1, '건진': 1, '내': 1, '가수': 1, '39믹스나인39': 1, '첫방송': 1, 'TV별책부록': 1, '이': 2, '밴드': 1, '보컬이': 1, '그렇게': 1, '섹시하대요': 1, '소곤소곤': 1, '아티스트': 2, '갤러리': 2, '': 1, '몽니': 1, '2년만에': 1, '보니까': 1, '반갑쟈나ㅠㅠ': 1, '39플레이백39': 1, '가을밤': 1, '지친': 1, '청춘들을': 1, '위한': 1, '노래': 1, 'DJ플레이리스트': 2, '당신의': 1, '쓸쓸한': 1, '가을을': 1, '업그레이드': 1, '노래는': 1, 'PICK송': 1, '지금': 1, '진짜': 1, '완전': 1, '대박': 1, '헐': 1, 'HOT한': 1, '트로트': 1, '퍼레이드': 1, '멜론': 1, '차트': 1, '1900기준': 1, '1': 1, '연애소설': 1, 'Feat': 2, '아이유': 1, '에픽': 2, '하이': 2, 'EPIK': 2, 'HIGH': 2, '2': 1, '선물': 1, '멜로망스': 1, '3': 1, 'LIKEY': 1, 'TWICE': 1, '4': 1, '빈차': 1, '오혁': 1, '5': 1, '그리워하다': 1, '비투비': 1, '탭8전체': 1, '탭11': 1, '보기': 4, '추천갤러리바로가기': 2, '이미지': 2, '목록': 2, '공지사항': 1, '위치기반서비스': 1, '이용약관': 1, '변경': 1, '소개': 1, '및': 1, '약관': 1, '회사소개': 1, '·': 9, '광고안내': 1, '검색등록': 1, '제휴문의': 1, '인재채용': 1, '서비스약관': 1, '청소년보호정책': 1, '개인정보처리방침': 1, '웹접근성안내': 1, '고객센터': 1, 'Copyright': 1, '©': 1, 'Kakao': 1, 'Corp': 1, 'All': 1, 'rights': 1, 'reserved': 1, '3371': 1}\n"
     ]
    }
   ],
   "source": [
    "from urllib import request \n",
    " \n",
    "url = 'http://www.daum.net'\n",
    "f = request.urlopen(url)\n",
    "source_bytes = f.read()\n",
    "source = source_bytes.decode('utf-8')\n",
    "re = source.split('<')\n",
    "i = 0\n",
    "st = ''\n",
    "count = 0\n",
    "s2 = list(range(len(re)))\n",
    "s3 = list(range(len(re)))\n",
    "for x in re[1:]:\n",
    "    if '>' not in x:\n",
    "        re.remove(x)\n",
    "for x in re[1:]:\n",
    "    s = x.split('>')\n",
    "    s.reverse()\n",
    "    s3[i] = s[0]\n",
    "    i = i+1\n",
    "for x in s3:\n",
    "    st = st+str(x)\n",
    "st1 = st.split()\n",
    "for x in st1:\n",
    "    count = count+1\n",
    "#print(count)\n",
    "#print(st1)\n",
    "\n",
    "i = 0\n",
    "P = list(range(len(string.punctuation)))\n",
    "L = st1\n",
    "for k in string.punctuation:\n",
    "    P[i] = k\n",
    "    i = i+1\n",
    "V = []\n",
    "M = {}\n",
    "for k in L:\n",
    "    for x in P:\n",
    "        if x in k:\n",
    "            num = k.count(x)\n",
    "            for t in range(num):\n",
    "                idx = k.index(x)\n",
    "                k = k[:idx] + k[idx+1:]\n",
    "    V.append(k)\n",
    "for k in V:\n",
    "    if len(k)==0:\n",
    "        V.remove(k)\n",
    "for k in V:\n",
    "    M[k] = V.count(k)\n",
    "#print(V)\n",
    "print(M)"
   ]
  },
  {
   "cell_type": "code",
   "execution_count": 5,
   "metadata": {},
   "outputs": [
    {
     "ename": "NameError",
     "evalue": "name 'string' is not defined",
     "output_type": "error",
     "traceback": [
      "\u001b[1;31m---------------------------------------------------------------------------\u001b[0m",
      "\u001b[1;31mNameError\u001b[0m                                 Traceback (most recent call last)",
      "\u001b[1;32m<ipython-input-5-2c127c50c61b>\u001b[0m in \u001b[0;36m<module>\u001b[1;34m()\u001b[0m\n\u001b[0;32m     28\u001b[0m \u001b[1;33m\u001b[0m\u001b[0m\n\u001b[0;32m     29\u001b[0m \u001b[0mi\u001b[0m \u001b[1;33m=\u001b[0m \u001b[1;36m0\u001b[0m\u001b[1;33m\u001b[0m\u001b[0m\n\u001b[1;32m---> 30\u001b[1;33m \u001b[0mP\u001b[0m \u001b[1;33m=\u001b[0m \u001b[0mlist\u001b[0m\u001b[1;33m(\u001b[0m\u001b[0mrange\u001b[0m\u001b[1;33m(\u001b[0m\u001b[0mlen\u001b[0m\u001b[1;33m(\u001b[0m\u001b[0mstring\u001b[0m\u001b[1;33m.\u001b[0m\u001b[0mpunctuation\u001b[0m\u001b[1;33m)\u001b[0m\u001b[1;33m)\u001b[0m\u001b[1;33m)\u001b[0m\u001b[1;33m\u001b[0m\u001b[0m\n\u001b[0m\u001b[0;32m     31\u001b[0m \u001b[0mL\u001b[0m \u001b[1;33m=\u001b[0m \u001b[0mst1\u001b[0m\u001b[1;33m\u001b[0m\u001b[0m\n\u001b[0;32m     32\u001b[0m \u001b[1;32mfor\u001b[0m \u001b[0mk\u001b[0m \u001b[1;32min\u001b[0m \u001b[0mstring\u001b[0m\u001b[1;33m.\u001b[0m\u001b[0mpunctuation\u001b[0m\u001b[1;33m:\u001b[0m\u001b[1;33m\u001b[0m\u001b[0m\n",
      "\u001b[1;31mNameError\u001b[0m: name 'string' is not defined"
     ]
    }
   ],
   "source": [
    "from urllib import request \n",
    " \n",
    "url = 'http://www.nytimes.com'\n",
    "f = request.urlopen(url)\n",
    "source_bytes = f.read()\n",
    "source = source_bytes.decode('utf-8')\n",
    "re = source.split('<')\n",
    "i = 0\n",
    "st = ''\n",
    "count = 0\n",
    "s2 = list(range(len(re)))\n",
    "s3 = list(range(len(re)))\n",
    "for x in re[1:]:\n",
    "    if '>' not in x:\n",
    "        re.remove(x)\n",
    "for x in re[1:]:\n",
    "    s = x.split('>')\n",
    "    s.reverse()\n",
    "    s3[i] = s[0]\n",
    "    i = i+1\n",
    "for x in s3:\n",
    "    st = st+str(x)\n",
    "st1 = st.split()\n",
    "for x in st1:\n",
    "    count = count+1\n",
    "#print(count)\n",
    "#print(st1)\n",
    "\n",
    "i = 0\n",
    "P = list(range(len(string.punctuation)))\n",
    "L = st1\n",
    "for k in string.punctuation:\n",
    "    P[i] = k\n",
    "    i = i+1\n",
    "V = []\n",
    "M = {}\n",
    "for k in L:\n",
    "    for x in P:\n",
    "        if x in k:\n",
    "            num = k.count(x)\n",
    "            for t in range(num):\n",
    "                idx = k.index(x)\n",
    "                k = k[:idx] + k[idx+1:]\n",
    "    V.append(k)\n",
    "for k in V:\n",
    "    if len(k)==0:\n",
    "        V.remove(k)\n",
    "for k in V:\n",
    "    M[k] = V.count(k)\n",
    "#print(V)\n",
    "print(M)"
   ]
  },
  {
   "cell_type": "markdown",
   "metadata": {},
   "source": [
    " 과제 2에서 작성한 코드와 합쳐서 각각의 사이트에 대한 결과를 출력했다."
   ]
  }
 ],
 "metadata": {
  "kernelspec": {
   "display_name": "Python 3",
   "language": "python",
   "name": "python3"
  },
  "language_info": {
   "codemirror_mode": {
    "name": "ipython",
    "version": 3
   },
   "file_extension": ".py",
   "mimetype": "text/x-python",
   "name": "python",
   "nbconvert_exporter": "python",
   "pygments_lexer": "ipython3",
   "version": "3.6.3"
  }
 },
 "nbformat": 4,
 "nbformat_minor": 2
}
